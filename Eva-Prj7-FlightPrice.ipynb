{
 "cells": [
  {
   "cell_type": "code",
   "execution_count": 1,
   "metadata": {},
   "outputs": [],
   "source": [
    "import pandas as pd\n",
    "import numpy as np\n",
    "import seaborn as sns\n",
    "import matplotlib.pyplot as plt\n",
    "from sklearn.model_selection import train_test_split, RandomizedSearchCV, cross_val_score\n",
    "from sklearn.preprocessing import StandardScaler\n",
    "from sklearn.linear_model import LinearRegression, Lasso,Ridge\n",
    "from sklearn.ensemble import RandomForestRegressor, GradientBoostingRegressor, AdaBoostRegressor\n",
    "from sklearn.tree import DecisionTreeRegressor\n",
    "from sklearn.neighbors import KNeighborsRegressor\n",
    "from sklearn.metrics import r2_score, mean_squared_error"
   ]
  },
  {
   "cell_type": "code",
   "execution_count": 2,
   "metadata": {},
   "outputs": [],
   "source": [
    "flight_train_data = pd.read_excel(\"Data_Train.xlsx\")\n",
    "flight_test_data  = pd.read_excel(\"Test_set.xlsx\")"
   ]
  },
  {
   "cell_type": "code",
   "execution_count": 3,
   "metadata": {},
   "outputs": [],
   "source": [
    "Test_data = flight_test_data.copy()"
   ]
  },
  {
   "cell_type": "code",
   "execution_count": 4,
   "metadata": {},
   "outputs": [
    {
     "data": {
      "text/html": [
       "<div>\n",
       "<style scoped>\n",
       "    .dataframe tbody tr th:only-of-type {\n",
       "        vertical-align: middle;\n",
       "    }\n",
       "\n",
       "    .dataframe tbody tr th {\n",
       "        vertical-align: top;\n",
       "    }\n",
       "\n",
       "    .dataframe thead th {\n",
       "        text-align: right;\n",
       "    }\n",
       "</style>\n",
       "<table border=\"1\" class=\"dataframe\">\n",
       "  <thead>\n",
       "    <tr style=\"text-align: right;\">\n",
       "      <th></th>\n",
       "      <th>Airline</th>\n",
       "      <th>Date_of_Journey</th>\n",
       "      <th>Source</th>\n",
       "      <th>Destination</th>\n",
       "      <th>Route</th>\n",
       "      <th>Dep_Time</th>\n",
       "      <th>Arrival_Time</th>\n",
       "      <th>Duration</th>\n",
       "      <th>Total_Stops</th>\n",
       "      <th>Additional_Info</th>\n",
       "      <th>Price</th>\n",
       "    </tr>\n",
       "  </thead>\n",
       "  <tbody>\n",
       "    <tr>\n",
       "      <th>0</th>\n",
       "      <td>IndiGo</td>\n",
       "      <td>24/03/2019</td>\n",
       "      <td>Banglore</td>\n",
       "      <td>New Delhi</td>\n",
       "      <td>BLR → DEL</td>\n",
       "      <td>22:20</td>\n",
       "      <td>01:10 22 Mar</td>\n",
       "      <td>2h 50m</td>\n",
       "      <td>non-stop</td>\n",
       "      <td>No info</td>\n",
       "      <td>3897</td>\n",
       "    </tr>\n",
       "    <tr>\n",
       "      <th>1</th>\n",
       "      <td>Air India</td>\n",
       "      <td>1/05/2019</td>\n",
       "      <td>Kolkata</td>\n",
       "      <td>Banglore</td>\n",
       "      <td>CCU → IXR → BBI → BLR</td>\n",
       "      <td>05:50</td>\n",
       "      <td>13:15</td>\n",
       "      <td>7h 25m</td>\n",
       "      <td>2 stops</td>\n",
       "      <td>No info</td>\n",
       "      <td>7662</td>\n",
       "    </tr>\n",
       "    <tr>\n",
       "      <th>2</th>\n",
       "      <td>Jet Airways</td>\n",
       "      <td>9/06/2019</td>\n",
       "      <td>Delhi</td>\n",
       "      <td>Cochin</td>\n",
       "      <td>DEL → LKO → BOM → COK</td>\n",
       "      <td>09:25</td>\n",
       "      <td>04:25 10 Jun</td>\n",
       "      <td>19h</td>\n",
       "      <td>2 stops</td>\n",
       "      <td>No info</td>\n",
       "      <td>13882</td>\n",
       "    </tr>\n",
       "    <tr>\n",
       "      <th>3</th>\n",
       "      <td>IndiGo</td>\n",
       "      <td>12/05/2019</td>\n",
       "      <td>Kolkata</td>\n",
       "      <td>Banglore</td>\n",
       "      <td>CCU → NAG → BLR</td>\n",
       "      <td>18:05</td>\n",
       "      <td>23:30</td>\n",
       "      <td>5h 25m</td>\n",
       "      <td>1 stop</td>\n",
       "      <td>No info</td>\n",
       "      <td>6218</td>\n",
       "    </tr>\n",
       "    <tr>\n",
       "      <th>4</th>\n",
       "      <td>IndiGo</td>\n",
       "      <td>01/03/2019</td>\n",
       "      <td>Banglore</td>\n",
       "      <td>New Delhi</td>\n",
       "      <td>BLR → NAG → DEL</td>\n",
       "      <td>16:50</td>\n",
       "      <td>21:35</td>\n",
       "      <td>4h 45m</td>\n",
       "      <td>1 stop</td>\n",
       "      <td>No info</td>\n",
       "      <td>13302</td>\n",
       "    </tr>\n",
       "  </tbody>\n",
       "</table>\n",
       "</div>"
      ],
      "text/plain": [
       "       Airline Date_of_Journey    Source Destination                  Route  \\\n",
       "0       IndiGo      24/03/2019  Banglore   New Delhi              BLR → DEL   \n",
       "1    Air India       1/05/2019   Kolkata    Banglore  CCU → IXR → BBI → BLR   \n",
       "2  Jet Airways       9/06/2019     Delhi      Cochin  DEL → LKO → BOM → COK   \n",
       "3       IndiGo      12/05/2019   Kolkata    Banglore        CCU → NAG → BLR   \n",
       "4       IndiGo      01/03/2019  Banglore   New Delhi        BLR → NAG → DEL   \n",
       "\n",
       "  Dep_Time  Arrival_Time Duration Total_Stops Additional_Info  Price  \n",
       "0    22:20  01:10 22 Mar   2h 50m    non-stop         No info   3897  \n",
       "1    05:50         13:15   7h 25m     2 stops         No info   7662  \n",
       "2    09:25  04:25 10 Jun      19h     2 stops         No info  13882  \n",
       "3    18:05         23:30   5h 25m      1 stop         No info   6218  \n",
       "4    16:50         21:35   4h 45m      1 stop         No info  13302  "
      ]
     },
     "execution_count": 4,
     "metadata": {},
     "output_type": "execute_result"
    }
   ],
   "source": [
    "flight_train_data.head()"
   ]
  },
  {
   "cell_type": "code",
   "execution_count": 5,
   "metadata": {},
   "outputs": [
    {
     "data": {
      "text/html": [
       "<div>\n",
       "<style scoped>\n",
       "    .dataframe tbody tr th:only-of-type {\n",
       "        vertical-align: middle;\n",
       "    }\n",
       "\n",
       "    .dataframe tbody tr th {\n",
       "        vertical-align: top;\n",
       "    }\n",
       "\n",
       "    .dataframe thead th {\n",
       "        text-align: right;\n",
       "    }\n",
       "</style>\n",
       "<table border=\"1\" class=\"dataframe\">\n",
       "  <thead>\n",
       "    <tr style=\"text-align: right;\">\n",
       "      <th></th>\n",
       "      <th>Airline</th>\n",
       "      <th>Date_of_Journey</th>\n",
       "      <th>Source</th>\n",
       "      <th>Destination</th>\n",
       "      <th>Route</th>\n",
       "      <th>Dep_Time</th>\n",
       "      <th>Arrival_Time</th>\n",
       "      <th>Duration</th>\n",
       "      <th>Total_Stops</th>\n",
       "      <th>Additional_Info</th>\n",
       "      <th>Price</th>\n",
       "    </tr>\n",
       "  </thead>\n",
       "  <tbody>\n",
       "    <tr>\n",
       "      <th>10678</th>\n",
       "      <td>Air Asia</td>\n",
       "      <td>9/04/2019</td>\n",
       "      <td>Kolkata</td>\n",
       "      <td>Banglore</td>\n",
       "      <td>CCU → BLR</td>\n",
       "      <td>19:55</td>\n",
       "      <td>22:25</td>\n",
       "      <td>2h 30m</td>\n",
       "      <td>non-stop</td>\n",
       "      <td>No info</td>\n",
       "      <td>4107</td>\n",
       "    </tr>\n",
       "    <tr>\n",
       "      <th>10679</th>\n",
       "      <td>Air India</td>\n",
       "      <td>27/04/2019</td>\n",
       "      <td>Kolkata</td>\n",
       "      <td>Banglore</td>\n",
       "      <td>CCU → BLR</td>\n",
       "      <td>20:45</td>\n",
       "      <td>23:20</td>\n",
       "      <td>2h 35m</td>\n",
       "      <td>non-stop</td>\n",
       "      <td>No info</td>\n",
       "      <td>4145</td>\n",
       "    </tr>\n",
       "    <tr>\n",
       "      <th>10680</th>\n",
       "      <td>Jet Airways</td>\n",
       "      <td>27/04/2019</td>\n",
       "      <td>Banglore</td>\n",
       "      <td>Delhi</td>\n",
       "      <td>BLR → DEL</td>\n",
       "      <td>08:20</td>\n",
       "      <td>11:20</td>\n",
       "      <td>3h</td>\n",
       "      <td>non-stop</td>\n",
       "      <td>No info</td>\n",
       "      <td>7229</td>\n",
       "    </tr>\n",
       "    <tr>\n",
       "      <th>10681</th>\n",
       "      <td>Vistara</td>\n",
       "      <td>01/03/2019</td>\n",
       "      <td>Banglore</td>\n",
       "      <td>New Delhi</td>\n",
       "      <td>BLR → DEL</td>\n",
       "      <td>11:30</td>\n",
       "      <td>14:10</td>\n",
       "      <td>2h 40m</td>\n",
       "      <td>non-stop</td>\n",
       "      <td>No info</td>\n",
       "      <td>12648</td>\n",
       "    </tr>\n",
       "    <tr>\n",
       "      <th>10682</th>\n",
       "      <td>Air India</td>\n",
       "      <td>9/05/2019</td>\n",
       "      <td>Delhi</td>\n",
       "      <td>Cochin</td>\n",
       "      <td>DEL → GOI → BOM → COK</td>\n",
       "      <td>10:55</td>\n",
       "      <td>19:15</td>\n",
       "      <td>8h 20m</td>\n",
       "      <td>2 stops</td>\n",
       "      <td>No info</td>\n",
       "      <td>11753</td>\n",
       "    </tr>\n",
       "  </tbody>\n",
       "</table>\n",
       "</div>"
      ],
      "text/plain": [
       "           Airline Date_of_Journey    Source Destination  \\\n",
       "10678     Air Asia       9/04/2019   Kolkata    Banglore   \n",
       "10679    Air India      27/04/2019   Kolkata    Banglore   \n",
       "10680  Jet Airways      27/04/2019  Banglore       Delhi   \n",
       "10681      Vistara      01/03/2019  Banglore   New Delhi   \n",
       "10682    Air India       9/05/2019     Delhi      Cochin   \n",
       "\n",
       "                       Route Dep_Time Arrival_Time Duration Total_Stops  \\\n",
       "10678              CCU → BLR    19:55        22:25   2h 30m    non-stop   \n",
       "10679              CCU → BLR    20:45        23:20   2h 35m    non-stop   \n",
       "10680              BLR → DEL    08:20        11:20       3h    non-stop   \n",
       "10681              BLR → DEL    11:30        14:10   2h 40m    non-stop   \n",
       "10682  DEL → GOI → BOM → COK    10:55        19:15   8h 20m     2 stops   \n",
       "\n",
       "      Additional_Info  Price  \n",
       "10678         No info   4107  \n",
       "10679         No info   4145  \n",
       "10680         No info   7229  \n",
       "10681         No info  12648  \n",
       "10682         No info  11753  "
      ]
     },
     "execution_count": 5,
     "metadata": {},
     "output_type": "execute_result"
    }
   ],
   "source": [
    "flight_train_data.tail()"
   ]
  },
  {
   "cell_type": "code",
   "execution_count": 6,
   "metadata": {},
   "outputs": [
    {
     "data": {
      "text/html": [
       "<div>\n",
       "<style scoped>\n",
       "    .dataframe tbody tr th:only-of-type {\n",
       "        vertical-align: middle;\n",
       "    }\n",
       "\n",
       "    .dataframe tbody tr th {\n",
       "        vertical-align: top;\n",
       "    }\n",
       "\n",
       "    .dataframe thead th {\n",
       "        text-align: right;\n",
       "    }\n",
       "</style>\n",
       "<table border=\"1\" class=\"dataframe\">\n",
       "  <thead>\n",
       "    <tr style=\"text-align: right;\">\n",
       "      <th></th>\n",
       "      <th>Airline</th>\n",
       "      <th>Date_of_Journey</th>\n",
       "      <th>Source</th>\n",
       "      <th>Destination</th>\n",
       "      <th>Route</th>\n",
       "      <th>Dep_Time</th>\n",
       "      <th>Arrival_Time</th>\n",
       "      <th>Duration</th>\n",
       "      <th>Total_Stops</th>\n",
       "      <th>Additional_Info</th>\n",
       "    </tr>\n",
       "  </thead>\n",
       "  <tbody>\n",
       "    <tr>\n",
       "      <th>0</th>\n",
       "      <td>Jet Airways</td>\n",
       "      <td>6/06/2019</td>\n",
       "      <td>Delhi</td>\n",
       "      <td>Cochin</td>\n",
       "      <td>DEL → BOM → COK</td>\n",
       "      <td>17:30</td>\n",
       "      <td>04:25 07 Jun</td>\n",
       "      <td>10h 55m</td>\n",
       "      <td>1 stop</td>\n",
       "      <td>No info</td>\n",
       "    </tr>\n",
       "    <tr>\n",
       "      <th>1</th>\n",
       "      <td>IndiGo</td>\n",
       "      <td>12/05/2019</td>\n",
       "      <td>Kolkata</td>\n",
       "      <td>Banglore</td>\n",
       "      <td>CCU → MAA → BLR</td>\n",
       "      <td>06:20</td>\n",
       "      <td>10:20</td>\n",
       "      <td>4h</td>\n",
       "      <td>1 stop</td>\n",
       "      <td>No info</td>\n",
       "    </tr>\n",
       "    <tr>\n",
       "      <th>2</th>\n",
       "      <td>Jet Airways</td>\n",
       "      <td>21/05/2019</td>\n",
       "      <td>Delhi</td>\n",
       "      <td>Cochin</td>\n",
       "      <td>DEL → BOM → COK</td>\n",
       "      <td>19:15</td>\n",
       "      <td>19:00 22 May</td>\n",
       "      <td>23h 45m</td>\n",
       "      <td>1 stop</td>\n",
       "      <td>In-flight meal not included</td>\n",
       "    </tr>\n",
       "    <tr>\n",
       "      <th>3</th>\n",
       "      <td>Multiple carriers</td>\n",
       "      <td>21/05/2019</td>\n",
       "      <td>Delhi</td>\n",
       "      <td>Cochin</td>\n",
       "      <td>DEL → BOM → COK</td>\n",
       "      <td>08:00</td>\n",
       "      <td>21:00</td>\n",
       "      <td>13h</td>\n",
       "      <td>1 stop</td>\n",
       "      <td>No info</td>\n",
       "    </tr>\n",
       "    <tr>\n",
       "      <th>4</th>\n",
       "      <td>Air Asia</td>\n",
       "      <td>24/06/2019</td>\n",
       "      <td>Banglore</td>\n",
       "      <td>Delhi</td>\n",
       "      <td>BLR → DEL</td>\n",
       "      <td>23:55</td>\n",
       "      <td>02:45 25 Jun</td>\n",
       "      <td>2h 50m</td>\n",
       "      <td>non-stop</td>\n",
       "      <td>No info</td>\n",
       "    </tr>\n",
       "  </tbody>\n",
       "</table>\n",
       "</div>"
      ],
      "text/plain": [
       "             Airline Date_of_Journey    Source Destination            Route  \\\n",
       "0        Jet Airways       6/06/2019     Delhi      Cochin  DEL → BOM → COK   \n",
       "1             IndiGo      12/05/2019   Kolkata    Banglore  CCU → MAA → BLR   \n",
       "2        Jet Airways      21/05/2019     Delhi      Cochin  DEL → BOM → COK   \n",
       "3  Multiple carriers      21/05/2019     Delhi      Cochin  DEL → BOM → COK   \n",
       "4           Air Asia      24/06/2019  Banglore       Delhi        BLR → DEL   \n",
       "\n",
       "  Dep_Time  Arrival_Time Duration Total_Stops              Additional_Info  \n",
       "0    17:30  04:25 07 Jun  10h 55m      1 stop                      No info  \n",
       "1    06:20         10:20       4h      1 stop                      No info  \n",
       "2    19:15  19:00 22 May  23h 45m      1 stop  In-flight meal not included  \n",
       "3    08:00         21:00      13h      1 stop                      No info  \n",
       "4    23:55  02:45 25 Jun   2h 50m    non-stop                      No info  "
      ]
     },
     "execution_count": 6,
     "metadata": {},
     "output_type": "execute_result"
    }
   ],
   "source": [
    "flight_test_data.head()"
   ]
  },
  {
   "cell_type": "code",
   "execution_count": 7,
   "metadata": {},
   "outputs": [
    {
     "data": {
      "text/html": [
       "<div>\n",
       "<style scoped>\n",
       "    .dataframe tbody tr th:only-of-type {\n",
       "        vertical-align: middle;\n",
       "    }\n",
       "\n",
       "    .dataframe tbody tr th {\n",
       "        vertical-align: top;\n",
       "    }\n",
       "\n",
       "    .dataframe thead th {\n",
       "        text-align: right;\n",
       "    }\n",
       "</style>\n",
       "<table border=\"1\" class=\"dataframe\">\n",
       "  <thead>\n",
       "    <tr style=\"text-align: right;\">\n",
       "      <th></th>\n",
       "      <th>Airline</th>\n",
       "      <th>Date_of_Journey</th>\n",
       "      <th>Source</th>\n",
       "      <th>Destination</th>\n",
       "      <th>Route</th>\n",
       "      <th>Dep_Time</th>\n",
       "      <th>Arrival_Time</th>\n",
       "      <th>Duration</th>\n",
       "      <th>Total_Stops</th>\n",
       "      <th>Additional_Info</th>\n",
       "    </tr>\n",
       "  </thead>\n",
       "  <tbody>\n",
       "    <tr>\n",
       "      <th>2666</th>\n",
       "      <td>Air India</td>\n",
       "      <td>6/06/2019</td>\n",
       "      <td>Kolkata</td>\n",
       "      <td>Banglore</td>\n",
       "      <td>CCU → DEL → BLR</td>\n",
       "      <td>20:30</td>\n",
       "      <td>20:25 07 Jun</td>\n",
       "      <td>23h 55m</td>\n",
       "      <td>1 stop</td>\n",
       "      <td>No info</td>\n",
       "    </tr>\n",
       "    <tr>\n",
       "      <th>2667</th>\n",
       "      <td>IndiGo</td>\n",
       "      <td>27/03/2019</td>\n",
       "      <td>Kolkata</td>\n",
       "      <td>Banglore</td>\n",
       "      <td>CCU → BLR</td>\n",
       "      <td>14:20</td>\n",
       "      <td>16:55</td>\n",
       "      <td>2h 35m</td>\n",
       "      <td>non-stop</td>\n",
       "      <td>No info</td>\n",
       "    </tr>\n",
       "    <tr>\n",
       "      <th>2668</th>\n",
       "      <td>Jet Airways</td>\n",
       "      <td>6/03/2019</td>\n",
       "      <td>Delhi</td>\n",
       "      <td>Cochin</td>\n",
       "      <td>DEL → BOM → COK</td>\n",
       "      <td>21:50</td>\n",
       "      <td>04:25 07 Mar</td>\n",
       "      <td>6h 35m</td>\n",
       "      <td>1 stop</td>\n",
       "      <td>No info</td>\n",
       "    </tr>\n",
       "    <tr>\n",
       "      <th>2669</th>\n",
       "      <td>Air India</td>\n",
       "      <td>6/03/2019</td>\n",
       "      <td>Delhi</td>\n",
       "      <td>Cochin</td>\n",
       "      <td>DEL → BOM → COK</td>\n",
       "      <td>04:00</td>\n",
       "      <td>19:15</td>\n",
       "      <td>15h 15m</td>\n",
       "      <td>1 stop</td>\n",
       "      <td>No info</td>\n",
       "    </tr>\n",
       "    <tr>\n",
       "      <th>2670</th>\n",
       "      <td>Multiple carriers</td>\n",
       "      <td>15/06/2019</td>\n",
       "      <td>Delhi</td>\n",
       "      <td>Cochin</td>\n",
       "      <td>DEL → BOM → COK</td>\n",
       "      <td>04:55</td>\n",
       "      <td>19:15</td>\n",
       "      <td>14h 20m</td>\n",
       "      <td>1 stop</td>\n",
       "      <td>No info</td>\n",
       "    </tr>\n",
       "  </tbody>\n",
       "</table>\n",
       "</div>"
      ],
      "text/plain": [
       "                Airline Date_of_Journey   Source Destination            Route  \\\n",
       "2666          Air India       6/06/2019  Kolkata    Banglore  CCU → DEL → BLR   \n",
       "2667             IndiGo      27/03/2019  Kolkata    Banglore        CCU → BLR   \n",
       "2668        Jet Airways       6/03/2019    Delhi      Cochin  DEL → BOM → COK   \n",
       "2669          Air India       6/03/2019    Delhi      Cochin  DEL → BOM → COK   \n",
       "2670  Multiple carriers      15/06/2019    Delhi      Cochin  DEL → BOM → COK   \n",
       "\n",
       "     Dep_Time  Arrival_Time Duration Total_Stops Additional_Info  \n",
       "2666    20:30  20:25 07 Jun  23h 55m      1 stop         No info  \n",
       "2667    14:20         16:55   2h 35m    non-stop         No info  \n",
       "2668    21:50  04:25 07 Mar   6h 35m      1 stop         No info  \n",
       "2669    04:00         19:15  15h 15m      1 stop         No info  \n",
       "2670    04:55         19:15  14h 20m      1 stop         No info  "
      ]
     },
     "execution_count": 7,
     "metadata": {},
     "output_type": "execute_result"
    }
   ],
   "source": [
    "flight_test_data.tail()"
   ]
  },
  {
   "cell_type": "code",
   "execution_count": 8,
   "metadata": {},
   "outputs": [
    {
     "name": "stdout",
     "output_type": "stream",
     "text": [
      "<class 'pandas.core.frame.DataFrame'>\n",
      "RangeIndex: 10683 entries, 0 to 10682\n",
      "Data columns (total 11 columns):\n",
      " #   Column           Non-Null Count  Dtype \n",
      "---  ------           --------------  ----- \n",
      " 0   Airline          10683 non-null  object\n",
      " 1   Date_of_Journey  10683 non-null  object\n",
      " 2   Source           10683 non-null  object\n",
      " 3   Destination      10683 non-null  object\n",
      " 4   Route            10682 non-null  object\n",
      " 5   Dep_Time         10683 non-null  object\n",
      " 6   Arrival_Time     10683 non-null  object\n",
      " 7   Duration         10683 non-null  object\n",
      " 8   Total_Stops      10682 non-null  object\n",
      " 9   Additional_Info  10683 non-null  object\n",
      " 10  Price            10683 non-null  int64 \n",
      "dtypes: int64(1), object(10)\n",
      "memory usage: 918.2+ KB\n"
     ]
    }
   ],
   "source": [
    "flight_train_data.info()"
   ]
  },
  {
   "cell_type": "code",
   "execution_count": 9,
   "metadata": {},
   "outputs": [
    {
     "name": "stdout",
     "output_type": "stream",
     "text": [
      "<class 'pandas.core.frame.DataFrame'>\n",
      "RangeIndex: 2671 entries, 0 to 2670\n",
      "Data columns (total 10 columns):\n",
      " #   Column           Non-Null Count  Dtype \n",
      "---  ------           --------------  ----- \n",
      " 0   Airline          2671 non-null   object\n",
      " 1   Date_of_Journey  2671 non-null   object\n",
      " 2   Source           2671 non-null   object\n",
      " 3   Destination      2671 non-null   object\n",
      " 4   Route            2671 non-null   object\n",
      " 5   Dep_Time         2671 non-null   object\n",
      " 6   Arrival_Time     2671 non-null   object\n",
      " 7   Duration         2671 non-null   object\n",
      " 8   Total_Stops      2671 non-null   object\n",
      " 9   Additional_Info  2671 non-null   object\n",
      "dtypes: object(10)\n",
      "memory usage: 208.8+ KB\n"
     ]
    }
   ],
   "source": [
    "flight_test_data.info()"
   ]
  },
  {
   "cell_type": "markdown",
   "metadata": {},
   "source": [
    "We have flight dataset which has information like date of flight, source, destination, duration , arrival time, departure time and any other along with Target feature, we have same features in test dataset also apart from target column.<br>\n",
    "it has 11 columns with Target feature and are all object type in nature except price feature which is our target variable.\n",
    "i have observed some  missing values also in training dataset. we will check further."
   ]
  },
  {
   "cell_type": "markdown",
   "metadata": {},
   "source": [
    "# Checking missing value"
   ]
  },
  {
   "cell_type": "code",
   "execution_count": 10,
   "metadata": {},
   "outputs": [],
   "source": [
    "def missing_val(x):\n",
    "    missing_value = {}\n",
    "    for i in x.columns:\n",
    "        if x[i].isnull().sum() > 0:\n",
    "            missing_value[i] = x[i].isnull().sum()\n",
    "    print(missing_value)\n",
    "            "
   ]
  },
  {
   "cell_type": "code",
   "execution_count": 11,
   "metadata": {},
   "outputs": [
    {
     "name": "stdout",
     "output_type": "stream",
     "text": [
      "{'Route': 1, 'Total_Stops': 1}\n"
     ]
    }
   ],
   "source": [
    "missing_val(flight_train_data)"
   ]
  },
  {
   "cell_type": "code",
   "execution_count": 12,
   "metadata": {},
   "outputs": [
    {
     "name": "stdout",
     "output_type": "stream",
     "text": [
      "{}\n"
     ]
    }
   ],
   "source": [
    "missing_val(flight_test_data)"
   ]
  },
  {
   "cell_type": "markdown",
   "metadata": {},
   "source": [
    "We have missing value in training dataset that to in route and total_stops, we will drop it as we have only one 2 instances out of 10K dataset"
   ]
  },
  {
   "cell_type": "code",
   "execution_count": 13,
   "metadata": {},
   "outputs": [],
   "source": [
    "flight_train_data.dropna(inplace = True)"
   ]
  },
  {
   "cell_type": "code",
   "execution_count": 14,
   "metadata": {},
   "outputs": [
    {
     "name": "stdout",
     "output_type": "stream",
     "text": [
      "{}\n"
     ]
    }
   ],
   "source": [
    "missing_val(flight_train_data)"
   ]
  },
  {
   "cell_type": "code",
   "execution_count": 15,
   "metadata": {},
   "outputs": [
    {
     "data": {
      "text/plain": [
       "(10682, 11)"
      ]
     },
     "execution_count": 15,
     "metadata": {},
     "output_type": "execute_result"
    }
   ],
   "source": [
    "flight_train_data.shape"
   ]
  },
  {
   "cell_type": "markdown",
   "metadata": {},
   "source": [
    "it was 10683, only one observation dropped."
   ]
  },
  {
   "cell_type": "code",
   "execution_count": 16,
   "metadata": {},
   "outputs": [],
   "source": [
    "# check the object type columns values\n",
    "\n",
    "obj_col = flight_train_data.select_dtypes(include= \"object\")\n",
    "def check_value(x):\n",
    "    for i in x.columns:\n",
    "        print(x[i].value_counts(),\"\\n\")\n",
    "  "
   ]
  },
  {
   "cell_type": "code",
   "execution_count": 17,
   "metadata": {},
   "outputs": [
    {
     "name": "stdout",
     "output_type": "stream",
     "text": [
      "Jet Airways                          3849\n",
      "IndiGo                               2053\n",
      "Air India                            1751\n",
      "Multiple carriers                    1196\n",
      "SpiceJet                              818\n",
      "Vistara                               479\n",
      "Air Asia                              319\n",
      "GoAir                                 194\n",
      "Multiple carriers Premium economy      13\n",
      "Jet Airways Business                    6\n",
      "Vistara Premium economy                 3\n",
      "Trujet                                  1\n",
      "Name: Airline, dtype: int64 \n",
      "\n",
      "18/05/2019    504\n",
      "6/06/2019     503\n",
      "21/05/2019    497\n",
      "9/06/2019     495\n",
      "12/06/2019    493\n",
      "9/05/2019     484\n",
      "21/03/2019    423\n",
      "15/05/2019    405\n",
      "27/05/2019    382\n",
      "27/06/2019    355\n",
      "24/06/2019    351\n",
      "1/06/2019     342\n",
      "3/06/2019     333\n",
      "15/06/2019    328\n",
      "24/03/2019    323\n",
      "6/03/2019     308\n",
      "27/03/2019    299\n",
      "24/05/2019    286\n",
      "6/05/2019     281\n",
      "1/05/2019     277\n",
      "12/05/2019    259\n",
      "1/04/2019     257\n",
      "3/03/2019     218\n",
      "9/03/2019     200\n",
      "15/03/2019    162\n",
      "18/03/2019    156\n",
      "01/03/2019    152\n",
      "12/03/2019    142\n",
      "9/04/2019     125\n",
      "3/04/2019     110\n",
      "21/06/2019    109\n",
      "18/06/2019    105\n",
      "09/03/2019    102\n",
      "6/04/2019     100\n",
      "03/03/2019     97\n",
      "06/03/2019     95\n",
      "27/04/2019     94\n",
      "24/04/2019     92\n",
      "3/05/2019      90\n",
      "15/04/2019     89\n",
      "21/04/2019     82\n",
      "18/04/2019     67\n",
      "12/04/2019     63\n",
      "1/03/2019      47\n",
      "Name: Date_of_Journey, dtype: int64 \n",
      "\n",
      "Delhi       4536\n",
      "Kolkata     2871\n",
      "Banglore    2197\n",
      "Mumbai       697\n",
      "Chennai      381\n",
      "Name: Source, dtype: int64 \n",
      "\n",
      "Cochin       4536\n",
      "Banglore     2871\n",
      "Delhi        1265\n",
      "New Delhi     932\n",
      "Hyderabad     697\n",
      "Kolkata       381\n",
      "Name: Destination, dtype: int64 \n",
      "\n",
      "DEL → BOM → COK          2376\n",
      "BLR → DEL                1552\n",
      "CCU → BOM → BLR           979\n",
      "CCU → BLR                 724\n",
      "BOM → HYD                 621\n",
      "                         ... \n",
      "CCU → RPR → HYD → BLR       1\n",
      "BOM → CCU → HYD             1\n",
      "CCU → IXB → DEL → BLR       1\n",
      "BOM → JLR → HYD             1\n",
      "BOM → RPR → VTZ → HYD       1\n",
      "Name: Route, Length: 128, dtype: int64 \n",
      "\n",
      "18:55    233\n",
      "17:00    227\n",
      "07:05    205\n",
      "10:00    203\n",
      "07:10    202\n",
      "        ... \n",
      "01:35      1\n",
      "12:05      1\n",
      "12:45      1\n",
      "21:40      1\n",
      "16:25      1\n",
      "Name: Dep_Time, Length: 222, dtype: int64 \n",
      "\n",
      "19:00           423\n",
      "21:00           360\n",
      "19:15           333\n",
      "16:10           154\n",
      "12:35           122\n",
      "               ... \n",
      "06:50 02 Jun      1\n",
      "06:50 10 May      1\n",
      "02:45 28 May      1\n",
      "23:25 02 May      1\n",
      "04:40 04 Apr      1\n",
      "Name: Arrival_Time, Length: 1343, dtype: int64 \n",
      "\n",
      "2h 50m     550\n",
      "1h 30m     386\n",
      "2h 55m     337\n",
      "2h 45m     337\n",
      "2h 35m     329\n",
      "          ... \n",
      "36h 25m      1\n",
      "32h 55m      1\n",
      "40h 20m      1\n",
      "29h 30m      1\n",
      "5m           1\n",
      "Name: Duration, Length: 368, dtype: int64 \n",
      "\n",
      "1 stop      5625\n",
      "non-stop    3491\n",
      "2 stops     1520\n",
      "3 stops       45\n",
      "4 stops        1\n",
      "Name: Total_Stops, dtype: int64 \n",
      "\n",
      "No info                         8344\n",
      "In-flight meal not included     1982\n",
      "No check-in baggage included     320\n",
      "1 Long layover                    19\n",
      "Change airports                    7\n",
      "Business class                     4\n",
      "No Info                            3\n",
      "Red-eye flight                     1\n",
      "2 Long layover                     1\n",
      "1 Short layover                    1\n",
      "Name: Additional_Info, dtype: int64 \n",
      "\n"
     ]
    }
   ],
   "source": [
    "check_value(obj_col)"
   ]
  },
  {
   "cell_type": "markdown",
   "metadata": {},
   "source": [
    "1. we have multiple airlines data, top 3 airlines names are Jet Airways, IndiGO and air india.\n",
    "2. Date column has to be converted into datetime columns\n",
    "3. source of the flights are from major 4 cities and their destination is also to major cities\n",
    "4. Route tells whether flight are connecting or direct flight\n",
    "5. Arrival time columns as multiple observations , it has hours, minutes and months also alogn wtih dates\n",
    "6. Duration is only hours are minute\n",
    "7. Tota stops, tells that how any stop a flight takes<br><br>\n",
    "\n",
    "will clean all the data points one by one\n",
    "\n"
   ]
  },
  {
   "cell_type": "markdown",
   "metadata": {},
   "source": [
    "# Feature Engeenering"
   ]
  },
  {
   "cell_type": "markdown",
   "metadata": {},
   "source": [
    "# Creating a feature by seprating Date, month and year "
   ]
  },
  {
   "cell_type": "code",
   "execution_count": 18,
   "metadata": {},
   "outputs": [],
   "source": [
    "#Change the datatypes of Date columns\n",
    "\n",
    "flight_train_data[\"Date_of_Journey\"] = pd.to_datetime(flight_train_data[\"Date_of_Journey\"])\n",
    "flight_test_data[\"Date_of_Journey\"] = pd.to_datetime(flight_test_data[\"Date_of_Journey\"])\n",
    "\n",
    "# Training Data\n",
    "flight_train_data[\"Day\"]  = flight_train_data[\"Date_of_Journey\"].dt.day\n",
    "flight_train_data[\"Month\"]  = flight_train_data[\"Date_of_Journey\"].dt.month\n",
    "flight_train_data[\"Year\"]  = flight_train_data[\"Date_of_Journey\"].dt.year\n",
    "\n",
    "flight_train_data.drop(\"Date_of_Journey\", axis = 1, inplace = True)\n",
    "# Test data\n",
    "\n",
    "flight_test_data[\"Day\"]  = flight_test_data[\"Date_of_Journey\"].dt.day\n",
    "flight_test_data[\"Month\"]  = flight_test_data[\"Date_of_Journey\"].dt.month\n",
    "flight_test_data[\"Year\"]  = flight_test_data[\"Date_of_Journey\"].dt.year\n",
    "\n",
    "flight_test_data.drop(\"Date_of_Journey\", axis = 1, inplace = True)"
   ]
  },
  {
   "cell_type": "markdown",
   "metadata": {},
   "source": [
    "Have extracted the date , month and year for EDA analysis and at the time to modeling it will get dropped"
   ]
  },
  {
   "cell_type": "code",
   "execution_count": 19,
   "metadata": {},
   "outputs": [],
   "source": [
    "# seprating route and saving it in outhes columns\n",
    "\n",
    "# Training Data \n",
    "\n",
    "flight_train_data[\"First_route\"] =  flight_train_data[\"Route\"].str.split(\"→ \").str[0] \n",
    "flight_train_data[\"Seond_route\"] =  flight_train_data[\"Route\"].str.split(\"→ \").str[1]\n",
    "flight_train_data[\"third_route\"] =  flight_train_data[\"Route\"].str.split(\"→ \").str[2]\n",
    "flight_train_data[\"forth_route\"] =  flight_train_data[\"Route\"].str.split(\"→ \").str[3]\n",
    "flight_train_data.drop(\"Route\",axis =1, inplace= True)\n",
    "\n",
    "# Testing Data\n",
    "\n",
    "flight_test_data[\"First_route\"] =  flight_test_data[\"Route\"].str.split(\"→ \").str[0] \n",
    "flight_test_data[\"Seond_route\"] =  flight_test_data[\"Route\"].str.split(\"→ \").str[1]\n",
    "flight_test_data[\"third_route\"] =  flight_test_data[\"Route\"].str.split(\"→ \").str[2]\n",
    "flight_test_data[\"forth_route\"] =  flight_test_data[\"Route\"].str.split(\"→ \").str[3]\n",
    "flight_test_data.drop(\"Route\",axis =1, inplace= True)"
   ]
  },
  {
   "cell_type": "markdown",
   "metadata": {},
   "source": [
    "we have multiple routes and those are seprated by arrow and we are seprating them and saving into different columns. "
   ]
  },
  {
   "cell_type": "code",
   "execution_count": 20,
   "metadata": {},
   "outputs": [],
   "source": [
    "# seprating Dept_time into hours and min\n",
    "\n",
    "# Training data\n",
    "\n",
    "flight_train_data[\"Dep_Time_hours\"] = flight_train_data[\"Dep_Time\"].str.split(\":\").str[0]\n",
    "flight_train_data[\"Dep_Time_Min\"] = flight_train_data[\"Dep_Time\"].str.split(\":\").str[1]\n",
    " \n",
    "flight_train_data.drop(\"Dep_Time\",axis = 1, inplace = True)    \n",
    "\n",
    "# Test Data\n",
    "\n",
    "flight_test_data[\"Dep_Time_hours\"] = flight_test_data[\"Dep_Time\"].str.split(\":\").str[0]\n",
    "flight_test_data[\"Dep_Time_Min\"] = flight_test_data[\"Dep_Time\"].str.split(\":\").str[1]\n",
    "\n",
    "flight_test_data.drop(\"Dep_Time\",axis = 1, inplace = True)"
   ]
  },
  {
   "cell_type": "markdown",
   "metadata": {},
   "source": [
    "seprating departure hours and min and saving them into different columns"
   ]
  },
  {
   "cell_type": "code",
   "execution_count": 21,
   "metadata": {},
   "outputs": [],
   "source": [
    "# Dividing Arrival time, i wont take date and month from this column into considering because it not available for all the observations\n",
    "\n",
    "# Training Data\n",
    "flight_train_data[\"Arrival_Time\"] = flight_train_data[\"Arrival_Time\"].str.split(\" \").str[0] # seprate hour and date month\n",
    "flight_train_data[\"Arrival_Time_hours\"] = flight_train_data[\"Arrival_Time\"].str.split(\":\").str[0]\n",
    "flight_train_data[\"Arrival_Time_min\"] = flight_train_data[\"Arrival_Time\"].str.split(\":\").str[1]\n",
    "flight_train_data.drop(\"Arrival_Time\",axis = 1, inplace = True)\n",
    "\n",
    "# Test data\n",
    "\n",
    "flight_test_data[\"Arrival_Time\"] = flight_test_data[\"Arrival_Time\"].str.split(\" \").str[0] # seprate hour and date month\n",
    "flight_test_data[\"Arrival_Time_hours\"] = flight_test_data[\"Arrival_Time\"].str.split(\":\").str[0]\n",
    "flight_test_data[\"Arrival_Time_min\"] = flight_test_data[\"Arrival_Time\"].str.split(\":\").str[1]\n",
    "flight_test_data.drop(\"Arrival_Time\",axis = 1, inplace = True)\n"
   ]
  },
  {
   "cell_type": "markdown",
   "metadata": {},
   "source": [
    "seprating Arrivaltime into hours and min and saving them into different columns"
   ]
  },
  {
   "cell_type": "code",
   "execution_count": 22,
   "metadata": {},
   "outputs": [],
   "source": [
    "duration = list(flight_train_data[\"Duration\"])\n",
    "for i in range(len(duration)):\n",
    "    if len(duration[i].split()) !=2:\n",
    "        if \"h\" in duration[i]:\n",
    "             duration[i] = duration[i].strip() + \" 0m\" \n",
    "        else:\n",
    "            duration[i] = \"0h \" + duration[i]\n",
    "duration_hours = []\n",
    "duration_mins = []\n",
    "\n",
    "for i in range(len(duration)):\n",
    "    duration_hours.append(int(duration[i].split(\"h\")[0]))\n",
    "    duration_mins.append(int(duration[i].split(\"m\")[0].split()[-1]))\n",
    "    \n",
    "    \n",
    "test_duration = list(flight_test_data[\"Duration\"])\n",
    "for i in range(len(test_duration)):\n",
    "    if len(test_duration[i].split()) !=2:\n",
    "        if \"h\" in test_duration[i]:\n",
    "             test_duration[i] = test_duration[i].strip() + \" 0m\" \n",
    "        else:\n",
    "            test_duration[i] = \"0h \" + test_duration[i]\n",
    "test_duration_hours = []\n",
    "test_duration_mins = []\n",
    "\n",
    "for i in range(len(test_duration)):\n",
    "    test_duration_hours.append(int(test_duration[i].split(\"h\")[0]))\n",
    "    test_duration_mins.append(int(test_duration[i].split(\"m\")[0].split()[-1]))"
   ]
  },
  {
   "cell_type": "markdown",
   "metadata": {},
   "source": [
    "Extracting the hours and min from the duration"
   ]
  },
  {
   "cell_type": "code",
   "execution_count": 23,
   "metadata": {},
   "outputs": [],
   "source": [
    "# Training data\n",
    "flight_train_data[\"Duration_hours\"] = duration_hours\n",
    "flight_train_data[\"Duration_Min\"] = duration_mins\n",
    "flight_train_data.drop(\"Duration\",axis = 1,inplace = True)\n",
    "\n",
    "# test data\n",
    "flight_test_data[\"Duration_hours\"] = test_duration_hours\n",
    "flight_test_data[\"Duration_Min\"] = test_duration_mins\n",
    "flight_test_data.drop(\"Duration\",axis = 1,inplace = True)"
   ]
  },
  {
   "cell_type": "code",
   "execution_count": 24,
   "metadata": {},
   "outputs": [],
   "source": [
    "# extracting the the stop details \n",
    "# Training Data\n",
    "flight_train_data[\"Total_Stops\"].replace(\"non-stop\",\"0 stop\",inplace = True)\n",
    "flight_train_data[\"Total_Stops\"] =  flight_train_data[\"Total_Stops\"].str.split(\" \").str[0] \n",
    "\n",
    "# Test data\n",
    "flight_test_data[\"Total_Stops\"].replace(\"non-stop\",\"0 stop\",inplace = True)\n",
    "flight_test_data[\"Total_Stops\"] =  flight_test_data[\"Total_Stops\"].str.split(\" \").str[0] "
   ]
  },
  {
   "cell_type": "markdown",
   "metadata": {},
   "source": [
    "remove the stop string from the Total_stop columns "
   ]
  },
  {
   "cell_type": "code",
   "execution_count": 25,
   "metadata": {
    "scrolled": true
   },
   "outputs": [
    {
     "data": {
      "text/plain": [
       "count    10682.000000\n",
       "mean      9087.214567\n",
       "std       4611.548810\n",
       "min       1759.000000\n",
       "25%       5277.000000\n",
       "50%       8372.000000\n",
       "75%      12373.000000\n",
       "max      79512.000000\n",
       "Name: Price, dtype: float64"
      ]
     },
     "execution_count": 25,
     "metadata": {},
     "output_type": "execute_result"
    }
   ],
   "source": [
    "flight_train_data[\"Price\"].describe()"
   ]
  },
  {
   "cell_type": "markdown",
   "metadata": {},
   "source": [
    "Price is Right skewed and max price is 79512"
   ]
  },
  {
   "cell_type": "markdown",
   "metadata": {},
   "source": [
    "# EDA"
   ]
  },
  {
   "cell_type": "code",
   "execution_count": 26,
   "metadata": {
    "scrolled": false
   },
   "outputs": [
    {
     "data": {
      "text/plain": [
       "<AxesSubplot:ylabel='Airline'>"
      ]
     },
     "execution_count": 26,
     "metadata": {},
     "output_type": "execute_result"
    },
    {
     "data": {
      "image/png": "[encoded data removed]",
      "text/plain": [
       "<Figure size 720x504 with 1 Axes>"
      ]
     },
     "metadata": {
      "needs_background": "light"
     },
     "output_type": "display_data"
    }
   ],
   "source": [
    "plt.figure(figsize =(10,7))\n",
    "flight_train_data.groupby(\"Airline\")[\"Price\"].mean().sort_values(ascending= True).plot(kind = \"barh\")"
   ]
  },
  {
   "cell_type": "code",
   "execution_count": 27,
   "metadata": {},
   "outputs": [
    {
     "data": {
      "image/png": "[encoded data removed]",
      "text/plain": [
       "<Figure size 1080x360 with 1 Axes>"
      ]
     },
     "metadata": {
      "needs_background": "light"
     },
     "output_type": "display_data"
    }
   ],
   "source": [
    "plt.figure(figsize = (15,5))\n",
    "flight_train_data.groupby(\"Airline\")[\"Airline\"].count().sort_values(ascending = True).plot(kind = \"barh\");"
   ]
  },
  {
   "cell_type": "markdown",
   "metadata": {},
   "source": [
    "1. Business class Average price for Jet Airways is way high to high\n",
    "2. Jet Airways, carriers premium economy ,Multiple Carriers, AirIndia and Vistara premium economy's price are high after Jet airways business class \n",
    "3. maxium flight are jet Airways which has been capture in the data followed by Indigo and Air india, jet Airways would have maximum flight availability that is the reason people chosen  this"
   ]
  },
  {
   "cell_type": "code",
   "execution_count": 28,
   "metadata": {},
   "outputs": [
    {
     "data": {
      "text/html": [
       "<div>\n",
       "<style scoped>\n",
       "    .dataframe tbody tr th:only-of-type {\n",
       "        vertical-align: middle;\n",
       "    }\n",
       "\n",
       "    .dataframe tbody tr th {\n",
       "        vertical-align: top;\n",
       "    }\n",
       "\n",
       "    .dataframe thead th {\n",
       "        text-align: right;\n",
       "    }\n",
       "</style>\n",
       "<table border=\"1\" class=\"dataframe\">\n",
       "  <thead>\n",
       "    <tr style=\"text-align: right;\">\n",
       "      <th></th>\n",
       "      <th>Airline</th>\n",
       "      <th>Source</th>\n",
       "      <th>Destination</th>\n",
       "      <th>Total_Stops</th>\n",
       "      <th>Additional_Info</th>\n",
       "      <th>Price</th>\n",
       "      <th>Day</th>\n",
       "      <th>Month</th>\n",
       "      <th>Year</th>\n",
       "      <th>First_route</th>\n",
       "      <th>Seond_route</th>\n",
       "      <th>third_route</th>\n",
       "      <th>forth_route</th>\n",
       "      <th>Dep_Time_hours</th>\n",
       "      <th>Dep_Time_Min</th>\n",
       "      <th>Arrival_Time_hours</th>\n",
       "      <th>Arrival_Time_min</th>\n",
       "      <th>Duration_hours</th>\n",
       "      <th>Duration_Min</th>\n",
       "    </tr>\n",
       "  </thead>\n",
       "  <tbody>\n",
       "    <tr>\n",
       "      <th>657</th>\n",
       "      <td>Jet Airways Business</td>\n",
       "      <td>Banglore</td>\n",
       "      <td>New Delhi</td>\n",
       "      <td>1</td>\n",
       "      <td>No info</td>\n",
       "      <td>52229</td>\n",
       "      <td>3</td>\n",
       "      <td>1</td>\n",
       "      <td>2019</td>\n",
       "      <td>BLR</td>\n",
       "      <td>BOM</td>\n",
       "      <td>DEL</td>\n",
       "      <td>NaN</td>\n",
       "      <td>05</td>\n",
       "      <td>45</td>\n",
       "      <td>10</td>\n",
       "      <td>45</td>\n",
       "      <td>5</td>\n",
       "      <td>0</td>\n",
       "    </tr>\n",
       "    <tr>\n",
       "      <th>2924</th>\n",
       "      <td>Jet Airways Business</td>\n",
       "      <td>Banglore</td>\n",
       "      <td>New Delhi</td>\n",
       "      <td>1</td>\n",
       "      <td>Business class</td>\n",
       "      <td>79512</td>\n",
       "      <td>3</td>\n",
       "      <td>1</td>\n",
       "      <td>2019</td>\n",
       "      <td>BLR</td>\n",
       "      <td>BOM</td>\n",
       "      <td>DEL</td>\n",
       "      <td>NaN</td>\n",
       "      <td>05</td>\n",
       "      <td>45</td>\n",
       "      <td>11</td>\n",
       "      <td>25</td>\n",
       "      <td>5</td>\n",
       "      <td>40</td>\n",
       "    </tr>\n",
       "    <tr>\n",
       "      <th>5372</th>\n",
       "      <td>Jet Airways Business</td>\n",
       "      <td>Banglore</td>\n",
       "      <td>New Delhi</td>\n",
       "      <td>1</td>\n",
       "      <td>Business class</td>\n",
       "      <td>62427</td>\n",
       "      <td>3</td>\n",
       "      <td>1</td>\n",
       "      <td>2019</td>\n",
       "      <td>BLR</td>\n",
       "      <td>BOM</td>\n",
       "      <td>DEL</td>\n",
       "      <td>NaN</td>\n",
       "      <td>05</td>\n",
       "      <td>45</td>\n",
       "      <td>12</td>\n",
       "      <td>25</td>\n",
       "      <td>6</td>\n",
       "      <td>40</td>\n",
       "    </tr>\n",
       "    <tr>\n",
       "      <th>7351</th>\n",
       "      <td>Jet Airways Business</td>\n",
       "      <td>Delhi</td>\n",
       "      <td>Cochin</td>\n",
       "      <td>2</td>\n",
       "      <td>No info</td>\n",
       "      <td>46490</td>\n",
       "      <td>3</td>\n",
       "      <td>3</td>\n",
       "      <td>2019</td>\n",
       "      <td>DEL</td>\n",
       "      <td>ATQ</td>\n",
       "      <td>BOM</td>\n",
       "      <td>COK</td>\n",
       "      <td>20</td>\n",
       "      <td>05</td>\n",
       "      <td>04</td>\n",
       "      <td>25</td>\n",
       "      <td>8</td>\n",
       "      <td>20</td>\n",
       "    </tr>\n",
       "    <tr>\n",
       "      <th>9715</th>\n",
       "      <td>Jet Airways Business</td>\n",
       "      <td>Delhi</td>\n",
       "      <td>Cochin</td>\n",
       "      <td>2</td>\n",
       "      <td>No info</td>\n",
       "      <td>52285</td>\n",
       "      <td>3</td>\n",
       "      <td>6</td>\n",
       "      <td>2019</td>\n",
       "      <td>DEL</td>\n",
       "      <td>ATQ</td>\n",
       "      <td>BOM</td>\n",
       "      <td>COK</td>\n",
       "      <td>20</td>\n",
       "      <td>05</td>\n",
       "      <td>04</td>\n",
       "      <td>25</td>\n",
       "      <td>8</td>\n",
       "      <td>20</td>\n",
       "    </tr>\n",
       "    <tr>\n",
       "      <th>10364</th>\n",
       "      <td>Jet Airways Business</td>\n",
       "      <td>Banglore</td>\n",
       "      <td>New Delhi</td>\n",
       "      <td>1</td>\n",
       "      <td>Business class</td>\n",
       "      <td>57209</td>\n",
       "      <td>3</td>\n",
       "      <td>1</td>\n",
       "      <td>2019</td>\n",
       "      <td>BLR</td>\n",
       "      <td>MAA</td>\n",
       "      <td>DEL</td>\n",
       "      <td>NaN</td>\n",
       "      <td>09</td>\n",
       "      <td>45</td>\n",
       "      <td>14</td>\n",
       "      <td>25</td>\n",
       "      <td>4</td>\n",
       "      <td>40</td>\n",
       "    </tr>\n",
       "  </tbody>\n",
       "</table>\n",
       "</div>"
      ],
      "text/plain": [
       "                    Airline    Source Destination Total_Stops Additional_Info  \\\n",
       "657    Jet Airways Business  Banglore   New Delhi           1         No info   \n",
       "2924   Jet Airways Business  Banglore   New Delhi           1  Business class   \n",
       "5372   Jet Airways Business  Banglore   New Delhi           1  Business class   \n",
       "7351   Jet Airways Business     Delhi      Cochin           2         No info   \n",
       "9715   Jet Airways Business     Delhi      Cochin           2         No info   \n",
       "10364  Jet Airways Business  Banglore   New Delhi           1  Business class   \n",
       "\n",
       "       Price  Day  Month  Year First_route Seond_route third_route  \\\n",
       "657    52229    3      1  2019        BLR         BOM          DEL   \n",
       "2924   79512    3      1  2019        BLR         BOM          DEL   \n",
       "5372   62427    3      1  2019        BLR         BOM          DEL   \n",
       "7351   46490    3      3  2019        DEL         ATQ         BOM    \n",
       "9715   52285    3      6  2019        DEL         ATQ         BOM    \n",
       "10364  57209    3      1  2019        BLR         MAA          DEL   \n",
       "\n",
       "      forth_route Dep_Time_hours Dep_Time_Min Arrival_Time_hours  \\\n",
       "657           NaN             05           45                 10   \n",
       "2924          NaN             05           45                 11   \n",
       "5372          NaN             05           45                 12   \n",
       "7351          COK             20           05                 04   \n",
       "9715          COK             20           05                 04   \n",
       "10364         NaN             09           45                 14   \n",
       "\n",
       "      Arrival_Time_min  Duration_hours  Duration_Min  \n",
       "657                 45               5             0  \n",
       "2924                25               5            40  \n",
       "5372                25               6            40  \n",
       "7351                25               8            20  \n",
       "9715                25               8            20  \n",
       "10364               25               4            40  "
      ]
     },
     "execution_count": 28,
     "metadata": {},
     "output_type": "execute_result"
    }
   ],
   "source": [
    "flight_train_data[flight_train_data[\"Airline\"] ==\"Jet Airways Business\"]"
   ]
  },
  {
   "cell_type": "markdown",
   "metadata": {},
   "source": [
    "There are 6 flight taken off from bangalore and delhi with business classs and average price is 60000 as we seen above"
   ]
  },
  {
   "cell_type": "code",
   "execution_count": 29,
   "metadata": {},
   "outputs": [
    {
     "data": {
      "text/plain": [
       "<AxesSubplot:xlabel='Source,Destination'>"
      ]
     },
     "execution_count": 29,
     "metadata": {},
     "output_type": "execute_result"
    },
    {
     "data": {
      "image/png": "[encoded data removed]",
      "text/plain": [
       "<Figure size 1080x360 with 1 Axes>"
      ]
     },
     "metadata": {
      "needs_background": "light"
     },
     "output_type": "display_data"
    }
   ],
   "source": [
    "plt.figure(figsize =(15,5))\n",
    "flight_train_data.groupby([\"Source\",\"Destination\"])[\"Price\"].mean().sort_values(ascending= False).plot(kind = \"bar\")"
   ]
  },
  {
   "cell_type": "markdown",
   "metadata": {},
   "source": [
    "Bangalore to New_Delhi average price is 12000 approx, Delhi to Cochin average price is 10500 approx "
   ]
  },
  {
   "cell_type": "code",
   "execution_count": 30,
   "metadata": {
    "scrolled": false
   },
   "outputs": [
    {
     "data": {
      "text/plain": [
       "<AxesSubplot:xlabel='Day', ylabel='Price'>"
      ]
     },
     "execution_count": 30,
     "metadata": {},
     "output_type": "execute_result"
    },
    {
     "data": {
      "image/png": "[encoded data removed]",
      "text/plain": [
       "<Figure size 1080x360 with 1 Axes>"
      ]
     },
     "metadata": {
      "needs_background": "light"
     },
     "output_type": "display_data"
    }
   ],
   "source": [
    "plt.figure(figsize=(15,5))\n",
    "sns.barplot(x = \"Day\", y = \"Price\", data = flight_train_data)"
   ]
  },
  {
   "cell_type": "code",
   "execution_count": 31,
   "metadata": {
    "scrolled": true
   },
   "outputs": [
    {
     "data": {
      "text/html": [
       "<div>\n",
       "<style scoped>\n",
       "    .dataframe tbody tr th:only-of-type {\n",
       "        vertical-align: middle;\n",
       "    }\n",
       "\n",
       "    .dataframe tbody tr th {\n",
       "        vertical-align: top;\n",
       "    }\n",
       "\n",
       "    .dataframe thead th {\n",
       "        text-align: right;\n",
       "    }\n",
       "</style>\n",
       "<table border=\"1\" class=\"dataframe\">\n",
       "  <thead>\n",
       "    <tr style=\"text-align: right;\">\n",
       "      <th>Month</th>\n",
       "      <th>1</th>\n",
       "      <th>3</th>\n",
       "      <th>4</th>\n",
       "      <th>5</th>\n",
       "      <th>6</th>\n",
       "      <th>9</th>\n",
       "      <th>12</th>\n",
       "    </tr>\n",
       "    <tr>\n",
       "      <th>Source</th>\n",
       "      <th></th>\n",
       "      <th></th>\n",
       "      <th></th>\n",
       "      <th></th>\n",
       "      <th></th>\n",
       "      <th></th>\n",
       "      <th></th>\n",
       "    </tr>\n",
       "  </thead>\n",
       "  <tbody>\n",
       "    <tr>\n",
       "      <th>Banglore</th>\n",
       "      <td>14225.078292</td>\n",
       "      <td>7809.777236</td>\n",
       "      <td>5148.201923</td>\n",
       "      <td>4803.541667</td>\n",
       "      <td>7840.174118</td>\n",
       "      <td>6593.072072</td>\n",
       "      <td>8304.269565</td>\n",
       "    </tr>\n",
       "    <tr>\n",
       "      <th>Chennai</th>\n",
       "      <td>5585.184211</td>\n",
       "      <td>4704.951456</td>\n",
       "      <td>NaN</td>\n",
       "      <td>4384.078125</td>\n",
       "      <td>4699.682243</td>\n",
       "      <td>4883.333333</td>\n",
       "      <td>5140.166667</td>\n",
       "    </tr>\n",
       "    <tr>\n",
       "      <th>Delhi</th>\n",
       "      <td>10709.438356</td>\n",
       "      <td>10176.883625</td>\n",
       "      <td>6126.155963</td>\n",
       "      <td>10702.897679</td>\n",
       "      <td>10750.217018</td>\n",
       "      <td>11190.991241</td>\n",
       "      <td>10200.360000</td>\n",
       "    </tr>\n",
       "    <tr>\n",
       "      <th>Kolkata</th>\n",
       "      <td>9092.089286</td>\n",
       "      <td>8344.732733</td>\n",
       "      <td>4479.514019</td>\n",
       "      <td>10177.647453</td>\n",
       "      <td>8582.591356</td>\n",
       "      <td>9575.911548</td>\n",
       "      <td>9583.748011</td>\n",
       "    </tr>\n",
       "    <tr>\n",
       "      <th>Mumbai</th>\n",
       "      <td>5261.833333</td>\n",
       "      <td>3698.661376</td>\n",
       "      <td>NaN</td>\n",
       "      <td>3578.570000</td>\n",
       "      <td>6512.507042</td>\n",
       "      <td>4000.679245</td>\n",
       "      <td>7023.728571</td>\n",
       "    </tr>\n",
       "  </tbody>\n",
       "</table>\n",
       "</div>"
      ],
      "text/plain": [
       "Month               1             3            4             5             6   \\\n",
       "Source                                                                          \n",
       "Banglore  14225.078292   7809.777236  5148.201923   4803.541667   7840.174118   \n",
       "Chennai    5585.184211   4704.951456          NaN   4384.078125   4699.682243   \n",
       "Delhi     10709.438356  10176.883625  6126.155963  10702.897679  10750.217018   \n",
       "Kolkata    9092.089286   8344.732733  4479.514019  10177.647453   8582.591356   \n",
       "Mumbai     5261.833333   3698.661376          NaN   3578.570000   6512.507042   \n",
       "\n",
       "Month               9             12  \n",
       "Source                                \n",
       "Banglore   6593.072072   8304.269565  \n",
       "Chennai    4883.333333   5140.166667  \n",
       "Delhi     11190.991241  10200.360000  \n",
       "Kolkata    9575.911548   9583.748011  \n",
       "Mumbai     4000.679245   7023.728571  "
      ]
     },
     "execution_count": 31,
     "metadata": {},
     "output_type": "execute_result"
    }
   ],
   "source": [
    "pd.pivot_table(flight_train_data, values = \"Price\",index =\"Source\", aggfunc=\"mean\", columns = \"Month\" )"
   ]
  },
  {
   "cell_type": "markdown",
   "metadata": {},
   "source": [
    "3rd of every month price are extremly high in all the months. There might be reason that people would have tarvelled to their corporates office for monthly meeting. "
   ]
  },
  {
   "cell_type": "code",
   "execution_count": 32,
   "metadata": {},
   "outputs": [
    {
     "data": {
      "text/html": [
       "<div>\n",
       "<style scoped>\n",
       "    .dataframe tbody tr th:only-of-type {\n",
       "        vertical-align: middle;\n",
       "    }\n",
       "\n",
       "    .dataframe tbody tr th {\n",
       "        vertical-align: top;\n",
       "    }\n",
       "\n",
       "    .dataframe thead th {\n",
       "        text-align: right;\n",
       "    }\n",
       "</style>\n",
       "<table border=\"1\" class=\"dataframe\">\n",
       "  <thead>\n",
       "    <tr style=\"text-align: right;\">\n",
       "      <th></th>\n",
       "      <th>Day</th>\n",
       "      <th>3</th>\n",
       "      <th>4</th>\n",
       "      <th>5</th>\n",
       "      <th>6</th>\n",
       "      <th>15</th>\n",
       "      <th>18</th>\n",
       "      <th>21</th>\n",
       "      <th>24</th>\n",
       "      <th>27</th>\n",
       "    </tr>\n",
       "    <tr>\n",
       "      <th>Source</th>\n",
       "      <th>Destination</th>\n",
       "      <th></th>\n",
       "      <th></th>\n",
       "      <th></th>\n",
       "      <th></th>\n",
       "      <th></th>\n",
       "      <th></th>\n",
       "      <th></th>\n",
       "      <th></th>\n",
       "      <th></th>\n",
       "    </tr>\n",
       "  </thead>\n",
       "  <tbody>\n",
       "    <tr>\n",
       "      <th rowspan=\"2\" valign=\"top\">Banglore</th>\n",
       "      <th>Delhi</th>\n",
       "      <td>NaN</td>\n",
       "      <td>5091.176744</td>\n",
       "      <td>4995.629808</td>\n",
       "      <td>5438.763889</td>\n",
       "      <td>5094.047619</td>\n",
       "      <td>5262.204918</td>\n",
       "      <td>5255.786885</td>\n",
       "      <td>4986.380165</td>\n",
       "      <td>4964.392593</td>\n",
       "    </tr>\n",
       "    <tr>\n",
       "      <th>New Delhi</th>\n",
       "      <td>14493.081181</td>\n",
       "      <td>NaN</td>\n",
       "      <td>NaN</td>\n",
       "      <td>NaN</td>\n",
       "      <td>8644.922330</td>\n",
       "      <td>12121.294737</td>\n",
       "      <td>6922.709677</td>\n",
       "      <td>5720.202020</td>\n",
       "      <td>NaN</td>\n",
       "    </tr>\n",
       "    <tr>\n",
       "      <th>Chennai</th>\n",
       "      <th>Kolkata</th>\n",
       "      <td>7252.538462</td>\n",
       "      <td>NaN</td>\n",
       "      <td>4372.522388</td>\n",
       "      <td>4450.476923</td>\n",
       "      <td>5009.358974</td>\n",
       "      <td>4340.307692</td>\n",
       "      <td>3963.027027</td>\n",
       "      <td>4571.736842</td>\n",
       "      <td>4104.136364</td>\n",
       "    </tr>\n",
       "    <tr>\n",
       "      <th>Delhi</th>\n",
       "      <th>Cochin</th>\n",
       "      <td>14216.060391</td>\n",
       "      <td>6550.446970</td>\n",
       "      <td>11173.741379</td>\n",
       "      <td>10481.231412</td>\n",
       "      <td>9569.119332</td>\n",
       "      <td>10719.696296</td>\n",
       "      <td>9842.086081</td>\n",
       "      <td>9750.591640</td>\n",
       "      <td>9709.459158</td>\n",
       "    </tr>\n",
       "    <tr>\n",
       "      <th>Kolkata</th>\n",
       "      <th>Banglore</th>\n",
       "      <td>5208.716216</td>\n",
       "      <td>7119.089219</td>\n",
       "      <td>10036.759669</td>\n",
       "      <td>9819.789474</td>\n",
       "      <td>8659.063025</td>\n",
       "      <td>8967.514894</td>\n",
       "      <td>9015.367347</td>\n",
       "      <td>10107.777512</td>\n",
       "      <td>4313.253165</td>\n",
       "    </tr>\n",
       "    <tr>\n",
       "      <th>Mumbai</th>\n",
       "      <th>Hyderabad</th>\n",
       "      <td>11322.500000</td>\n",
       "      <td>3450.307692</td>\n",
       "      <td>3663.098039</td>\n",
       "      <td>3662.020202</td>\n",
       "      <td>3386.542373</td>\n",
       "      <td>3525.084507</td>\n",
       "      <td>3891.352941</td>\n",
       "      <td>3620.846154</td>\n",
       "      <td>3654.687500</td>\n",
       "    </tr>\n",
       "  </tbody>\n",
       "</table>\n",
       "</div>"
      ],
      "text/plain": [
       "Day                             3            4             5             6   \\\n",
       "Source   Destination                                                          \n",
       "Banglore Delhi                 NaN  5091.176744   4995.629808   5438.763889   \n",
       "         New Delhi    14493.081181          NaN           NaN           NaN   \n",
       "Chennai  Kolkata       7252.538462          NaN   4372.522388   4450.476923   \n",
       "Delhi    Cochin       14216.060391  6550.446970  11173.741379  10481.231412   \n",
       "Kolkata  Banglore      5208.716216  7119.089219  10036.759669   9819.789474   \n",
       "Mumbai   Hyderabad    11322.500000  3450.307692   3663.098039   3662.020202   \n",
       "\n",
       "Day                            15            18           21            24  \\\n",
       "Source   Destination                                                         \n",
       "Banglore Delhi        5094.047619   5262.204918  5255.786885   4986.380165   \n",
       "         New Delhi    8644.922330  12121.294737  6922.709677   5720.202020   \n",
       "Chennai  Kolkata      5009.358974   4340.307692  3963.027027   4571.736842   \n",
       "Delhi    Cochin       9569.119332  10719.696296  9842.086081   9750.591640   \n",
       "Kolkata  Banglore     8659.063025   8967.514894  9015.367347  10107.777512   \n",
       "Mumbai   Hyderabad    3386.542373   3525.084507  3891.352941   3620.846154   \n",
       "\n",
       "Day                            27  \n",
       "Source   Destination               \n",
       "Banglore Delhi        4964.392593  \n",
       "         New Delhi            NaN  \n",
       "Chennai  Kolkata      4104.136364  \n",
       "Delhi    Cochin       9709.459158  \n",
       "Kolkata  Banglore     4313.253165  \n",
       "Mumbai   Hyderabad    3654.687500  "
      ]
     },
     "execution_count": 32,
     "metadata": {},
     "output_type": "execute_result"
    }
   ],
   "source": [
    "pd.pivot_table(flight_train_data, values = \"Price\",index =[\"Source\",\"Destination\"], aggfunc=\"mean\", columns = \"Day\" )"
   ]
  },
  {
   "cell_type": "markdown",
   "metadata": {},
   "source": [
    "1. Bangalore to Delhi price is almost same for all days and it is between 5400 to 4964.\n",
    "2. Bagalore to New delhi price are high,\n",
    "3. 3rd of every month price are very high except KOL"
   ]
  },
  {
   "cell_type": "code",
   "execution_count": 33,
   "metadata": {
    "scrolled": true
   },
   "outputs": [
    {
     "data": {
      "text/html": [
       "<div>\n",
       "<style scoped>\n",
       "    .dataframe tbody tr th:only-of-type {\n",
       "        vertical-align: middle;\n",
       "    }\n",
       "\n",
       "    .dataframe tbody tr th {\n",
       "        vertical-align: top;\n",
       "    }\n",
       "\n",
       "    .dataframe thead th {\n",
       "        text-align: right;\n",
       "    }\n",
       "</style>\n",
       "<table border=\"1\" class=\"dataframe\">\n",
       "  <thead>\n",
       "    <tr style=\"text-align: right;\">\n",
       "      <th>Day</th>\n",
       "      <th>3</th>\n",
       "      <th>4</th>\n",
       "      <th>5</th>\n",
       "      <th>6</th>\n",
       "      <th>15</th>\n",
       "      <th>18</th>\n",
       "      <th>21</th>\n",
       "      <th>24</th>\n",
       "      <th>27</th>\n",
       "    </tr>\n",
       "    <tr>\n",
       "      <th>Airline</th>\n",
       "      <th></th>\n",
       "      <th></th>\n",
       "      <th></th>\n",
       "      <th></th>\n",
       "      <th></th>\n",
       "      <th></th>\n",
       "      <th></th>\n",
       "      <th></th>\n",
       "      <th></th>\n",
       "    </tr>\n",
       "  </thead>\n",
       "  <tbody>\n",
       "    <tr>\n",
       "      <th>Air Asia</th>\n",
       "      <td>28.0</td>\n",
       "      <td>26.0</td>\n",
       "      <td>43.0</td>\n",
       "      <td>60.0</td>\n",
       "      <td>33.0</td>\n",
       "      <td>28.0</td>\n",
       "      <td>31.0</td>\n",
       "      <td>37.0</td>\n",
       "      <td>33.0</td>\n",
       "    </tr>\n",
       "    <tr>\n",
       "      <th>Air India</th>\n",
       "      <td>302.0</td>\n",
       "      <td>103.0</td>\n",
       "      <td>235.0</td>\n",
       "      <td>324.0</td>\n",
       "      <td>167.0</td>\n",
       "      <td>134.0</td>\n",
       "      <td>178.0</td>\n",
       "      <td>166.0</td>\n",
       "      <td>142.0</td>\n",
       "    </tr>\n",
       "    <tr>\n",
       "      <th>GoAir</th>\n",
       "      <td>21.0</td>\n",
       "      <td>22.0</td>\n",
       "      <td>22.0</td>\n",
       "      <td>34.0</td>\n",
       "      <td>23.0</td>\n",
       "      <td>12.0</td>\n",
       "      <td>12.0</td>\n",
       "      <td>28.0</td>\n",
       "      <td>20.0</td>\n",
       "    </tr>\n",
       "    <tr>\n",
       "      <th>IndiGo</th>\n",
       "      <td>289.0</td>\n",
       "      <td>160.0</td>\n",
       "      <td>233.0</td>\n",
       "      <td>346.0</td>\n",
       "      <td>218.0</td>\n",
       "      <td>159.0</td>\n",
       "      <td>206.0</td>\n",
       "      <td>204.0</td>\n",
       "      <td>238.0</td>\n",
       "    </tr>\n",
       "    <tr>\n",
       "      <th>Jet Airways</th>\n",
       "      <td>416.0</td>\n",
       "      <td>207.0</td>\n",
       "      <td>600.0</td>\n",
       "      <td>885.0</td>\n",
       "      <td>285.0</td>\n",
       "      <td>320.0</td>\n",
       "      <td>405.0</td>\n",
       "      <td>376.0</td>\n",
       "      <td>355.0</td>\n",
       "    </tr>\n",
       "    <tr>\n",
       "      <th>Jet Airways Business</th>\n",
       "      <td>6.0</td>\n",
       "      <td>NaN</td>\n",
       "      <td>NaN</td>\n",
       "      <td>NaN</td>\n",
       "      <td>NaN</td>\n",
       "      <td>NaN</td>\n",
       "      <td>NaN</td>\n",
       "      <td>NaN</td>\n",
       "      <td>NaN</td>\n",
       "    </tr>\n",
       "    <tr>\n",
       "      <th>Multiple carriers</th>\n",
       "      <td>173.0</td>\n",
       "      <td>14.0</td>\n",
       "      <td>71.0</td>\n",
       "      <td>307.0</td>\n",
       "      <td>132.0</td>\n",
       "      <td>63.0</td>\n",
       "      <td>138.0</td>\n",
       "      <td>73.0</td>\n",
       "      <td>225.0</td>\n",
       "    </tr>\n",
       "    <tr>\n",
       "      <th>Multiple carriers Premium economy</th>\n",
       "      <td>NaN</td>\n",
       "      <td>NaN</td>\n",
       "      <td>NaN</td>\n",
       "      <td>NaN</td>\n",
       "      <td>NaN</td>\n",
       "      <td>NaN</td>\n",
       "      <td>13.0</td>\n",
       "      <td>NaN</td>\n",
       "      <td>NaN</td>\n",
       "    </tr>\n",
       "    <tr>\n",
       "      <th>SpiceJet</th>\n",
       "      <td>63.0</td>\n",
       "      <td>80.0</td>\n",
       "      <td>108.0</td>\n",
       "      <td>125.0</td>\n",
       "      <td>87.0</td>\n",
       "      <td>79.0</td>\n",
       "      <td>89.0</td>\n",
       "      <td>100.0</td>\n",
       "      <td>87.0</td>\n",
       "    </tr>\n",
       "    <tr>\n",
       "      <th>Trujet</th>\n",
       "      <td>1.0</td>\n",
       "      <td>NaN</td>\n",
       "      <td>NaN</td>\n",
       "      <td>NaN</td>\n",
       "      <td>NaN</td>\n",
       "      <td>NaN</td>\n",
       "      <td>NaN</td>\n",
       "      <td>NaN</td>\n",
       "      <td>NaN</td>\n",
       "    </tr>\n",
       "    <tr>\n",
       "      <th>Vistara</th>\n",
       "      <td>60.0</td>\n",
       "      <td>42.0</td>\n",
       "      <td>79.0</td>\n",
       "      <td>85.0</td>\n",
       "      <td>39.0</td>\n",
       "      <td>37.0</td>\n",
       "      <td>39.0</td>\n",
       "      <td>68.0</td>\n",
       "      <td>30.0</td>\n",
       "    </tr>\n",
       "    <tr>\n",
       "      <th>Vistara Premium economy</th>\n",
       "      <td>2.0</td>\n",
       "      <td>1.0</td>\n",
       "      <td>NaN</td>\n",
       "      <td>NaN</td>\n",
       "      <td>NaN</td>\n",
       "      <td>NaN</td>\n",
       "      <td>NaN</td>\n",
       "      <td>NaN</td>\n",
       "      <td>NaN</td>\n",
       "    </tr>\n",
       "  </tbody>\n",
       "</table>\n",
       "</div>"
      ],
      "text/plain": [
       "Day                                   3      4      5      6      15     18  \\\n",
       "Airline                                                                       \n",
       "Air Asia                            28.0   26.0   43.0   60.0   33.0   28.0   \n",
       "Air India                          302.0  103.0  235.0  324.0  167.0  134.0   \n",
       "GoAir                               21.0   22.0   22.0   34.0   23.0   12.0   \n",
       "IndiGo                             289.0  160.0  233.0  346.0  218.0  159.0   \n",
       "Jet Airways                        416.0  207.0  600.0  885.0  285.0  320.0   \n",
       "Jet Airways Business                 6.0    NaN    NaN    NaN    NaN    NaN   \n",
       "Multiple carriers                  173.0   14.0   71.0  307.0  132.0   63.0   \n",
       "Multiple carriers Premium economy    NaN    NaN    NaN    NaN    NaN    NaN   \n",
       "SpiceJet                            63.0   80.0  108.0  125.0   87.0   79.0   \n",
       "Trujet                               1.0    NaN    NaN    NaN    NaN    NaN   \n",
       "Vistara                             60.0   42.0   79.0   85.0   39.0   37.0   \n",
       "Vistara Premium economy              2.0    1.0    NaN    NaN    NaN    NaN   \n",
       "\n",
       "Day                                   21     24     27  \n",
       "Airline                                                 \n",
       "Air Asia                            31.0   37.0   33.0  \n",
       "Air India                          178.0  166.0  142.0  \n",
       "GoAir                               12.0   28.0   20.0  \n",
       "IndiGo                             206.0  204.0  238.0  \n",
       "Jet Airways                        405.0  376.0  355.0  \n",
       "Jet Airways Business                 NaN    NaN    NaN  \n",
       "Multiple carriers                  138.0   73.0  225.0  \n",
       "Multiple carriers Premium economy   13.0    NaN    NaN  \n",
       "SpiceJet                            89.0  100.0   87.0  \n",
       "Trujet                               NaN    NaN    NaN  \n",
       "Vistara                             39.0   68.0   30.0  \n",
       "Vistara Premium economy              NaN    NaN    NaN  "
      ]
     },
     "execution_count": 33,
     "metadata": {},
     "output_type": "execute_result"
    }
   ],
   "source": [
    "pd.pivot_table(flight_train_data, values = \"Duration_hours\", index = \"Airline\", columns = \"Day\", aggfunc = \"count\")"
   ]
  },
  {
   "cell_type": "markdown",
   "metadata": {},
   "source": [
    "it is obvious that Jet Airway has maxium flight and its duration also would be high but Air india comes at 3rd place intems of flihgt take off count but the average is high as compared to Indigo, which mean it has maximum stops"
   ]
  },
  {
   "cell_type": "code",
   "execution_count": 34,
   "metadata": {
    "scrolled": true
   },
   "outputs": [
    {
     "name": "stdout",
     "output_type": "stream",
     "text": [
      "<class 'pandas.core.frame.DataFrame'>\n",
      "Int64Index: 10682 entries, 0 to 10682\n",
      "Data columns (total 19 columns):\n",
      " #   Column              Non-Null Count  Dtype \n",
      "---  ------              --------------  ----- \n",
      " 0   Airline             10682 non-null  object\n",
      " 1   Source              10682 non-null  object\n",
      " 2   Destination         10682 non-null  object\n",
      " 3   Total_Stops         10682 non-null  object\n",
      " 4   Additional_Info     10682 non-null  object\n",
      " 5   Price               10682 non-null  int64 \n",
      " 6   Day                 10682 non-null  int64 \n",
      " 7   Month               10682 non-null  int64 \n",
      " 8   Year                10682 non-null  int64 \n",
      " 9   First_route         10682 non-null  object\n",
      " 10  Seond_route         10682 non-null  object\n",
      " 11  third_route         7191 non-null   object\n",
      " 12  forth_route         1566 non-null   object\n",
      " 13  Dep_Time_hours      10682 non-null  object\n",
      " 14  Dep_Time_Min        10682 non-null  object\n",
      " 15  Arrival_Time_hours  10682 non-null  object\n",
      " 16  Arrival_Time_min    10682 non-null  object\n",
      " 17  Duration_hours      10682 non-null  int64 \n",
      " 18  Duration_Min        10682 non-null  int64 \n",
      "dtypes: int64(6), object(13)\n",
      "memory usage: 1.9+ MB\n"
     ]
    }
   ],
   "source": [
    "flight_train_data.info()"
   ]
  },
  {
   "cell_type": "markdown",
   "metadata": {},
   "source": [
    "We have missing values in third route and forth route, which mean that maximum flight are direct and thus they have only from and To destination. we cannot fill."
   ]
  },
  {
   "cell_type": "code",
   "execution_count": 35,
   "metadata": {},
   "outputs": [],
   "source": [
    "flight_train_data.drop(columns = [\"First_route\",\"Seond_route\",\"third_route\",\"forth_route\"],axis =1, inplace = True)\n",
    "flight_test_data.drop(columns = [\"First_route\",\"Seond_route\",\"third_route\",\"forth_route\"],axis =1, inplace = True)\n",
    "\n",
    "# Deleting addition information column as well as it is no relevant \n",
    "\n",
    "# Training data\n",
    "\n",
    "flight_train_data.drop(\"Additional_Info\",axis = 1, inplace = True)\n",
    "\n",
    "# test Data\n",
    "\n",
    "flight_test_data.drop(\"Additional_Info\",axis = 1, inplace = True)"
   ]
  },
  {
   "cell_type": "markdown",
   "metadata": {},
   "source": [
    "# Label Encoding"
   ]
  },
  {
   "cell_type": "code",
   "execution_count": 36,
   "metadata": {},
   "outputs": [],
   "source": [
    "from sklearn.preprocessing import LabelEncoder\n",
    "\n",
    "le = LabelEncoder()\n",
    "\n",
    "# training data\n",
    "\n",
    "flight_train_data[\"Airline\"] = le.fit_transform(flight_train_data[\"Airline\"])\n",
    "flight_train_data[\"Source\"] = le.fit_transform(flight_train_data[\"Source\"])\n",
    "flight_train_data[\"Destination\"] = le.fit_transform(flight_train_data[\"Destination\"])\n",
    "\n",
    "# Test Data\n",
    "\n",
    "flight_test_data[\"Airline\"] = le.fit_transform(flight_test_data[\"Airline\"])\n",
    "flight_test_data[\"Source\"] = le.fit_transform(flight_test_data[\"Source\"])\n",
    "flight_test_data[\"Destination\"] = le.fit_transform(flight_test_data[\"Destination\"])\n"
   ]
  },
  {
   "cell_type": "code",
   "execution_count": 37,
   "metadata": {},
   "outputs": [],
   "source": [
    "flight_train_data.drop(columns = [\"Day\",\"Month\",\"Year\"],axis = 1, inplace = True)\n",
    "flight_test_data.drop(columns = [\"Day\",\"Month\",\"Year\"],axis = 1, inplace = True)"
   ]
  },
  {
   "cell_type": "code",
   "execution_count": 38,
   "metadata": {
    "scrolled": true
   },
   "outputs": [
    {
     "data": {
      "text/html": [
       "<div>\n",
       "<style scoped>\n",
       "    .dataframe tbody tr th:only-of-type {\n",
       "        vertical-align: middle;\n",
       "    }\n",
       "\n",
       "    .dataframe tbody tr th {\n",
       "        vertical-align: top;\n",
       "    }\n",
       "\n",
       "    .dataframe thead th {\n",
       "        text-align: right;\n",
       "    }\n",
       "</style>\n",
       "<table border=\"1\" class=\"dataframe\">\n",
       "  <thead>\n",
       "    <tr style=\"text-align: right;\">\n",
       "      <th></th>\n",
       "      <th>Airline</th>\n",
       "      <th>Source</th>\n",
       "      <th>Destination</th>\n",
       "      <th>Total_Stops</th>\n",
       "      <th>Price</th>\n",
       "      <th>Dep_Time_hours</th>\n",
       "      <th>Dep_Time_Min</th>\n",
       "      <th>Arrival_Time_hours</th>\n",
       "      <th>Arrival_Time_min</th>\n",
       "      <th>Duration_hours</th>\n",
       "      <th>Duration_Min</th>\n",
       "    </tr>\n",
       "  </thead>\n",
       "  <tbody>\n",
       "    <tr>\n",
       "      <th>0</th>\n",
       "      <td>3</td>\n",
       "      <td>0</td>\n",
       "      <td>5</td>\n",
       "      <td>0</td>\n",
       "      <td>3897</td>\n",
       "      <td>22</td>\n",
       "      <td>20</td>\n",
       "      <td>01</td>\n",
       "      <td>10</td>\n",
       "      <td>2</td>\n",
       "      <td>50</td>\n",
       "    </tr>\n",
       "    <tr>\n",
       "      <th>1</th>\n",
       "      <td>1</td>\n",
       "      <td>3</td>\n",
       "      <td>0</td>\n",
       "      <td>2</td>\n",
       "      <td>7662</td>\n",
       "      <td>05</td>\n",
       "      <td>50</td>\n",
       "      <td>13</td>\n",
       "      <td>15</td>\n",
       "      <td>7</td>\n",
       "      <td>25</td>\n",
       "    </tr>\n",
       "    <tr>\n",
       "      <th>2</th>\n",
       "      <td>4</td>\n",
       "      <td>2</td>\n",
       "      <td>1</td>\n",
       "      <td>2</td>\n",
       "      <td>13882</td>\n",
       "      <td>09</td>\n",
       "      <td>25</td>\n",
       "      <td>04</td>\n",
       "      <td>25</td>\n",
       "      <td>19</td>\n",
       "      <td>0</td>\n",
       "    </tr>\n",
       "    <tr>\n",
       "      <th>3</th>\n",
       "      <td>3</td>\n",
       "      <td>3</td>\n",
       "      <td>0</td>\n",
       "      <td>1</td>\n",
       "      <td>6218</td>\n",
       "      <td>18</td>\n",
       "      <td>05</td>\n",
       "      <td>23</td>\n",
       "      <td>30</td>\n",
       "      <td>5</td>\n",
       "      <td>25</td>\n",
       "    </tr>\n",
       "    <tr>\n",
       "      <th>4</th>\n",
       "      <td>3</td>\n",
       "      <td>0</td>\n",
       "      <td>5</td>\n",
       "      <td>1</td>\n",
       "      <td>13302</td>\n",
       "      <td>16</td>\n",
       "      <td>50</td>\n",
       "      <td>21</td>\n",
       "      <td>35</td>\n",
       "      <td>4</td>\n",
       "      <td>45</td>\n",
       "    </tr>\n",
       "  </tbody>\n",
       "</table>\n",
       "</div>"
      ],
      "text/plain": [
       "   Airline  Source  Destination Total_Stops  Price Dep_Time_hours  \\\n",
       "0        3       0            5           0   3897             22   \n",
       "1        1       3            0           2   7662             05   \n",
       "2        4       2            1           2  13882             09   \n",
       "3        3       3            0           1   6218             18   \n",
       "4        3       0            5           1  13302             16   \n",
       "\n",
       "  Dep_Time_Min Arrival_Time_hours Arrival_Time_min  Duration_hours  \\\n",
       "0           20                 01               10               2   \n",
       "1           50                 13               15               7   \n",
       "2           25                 04               25              19   \n",
       "3           05                 23               30               5   \n",
       "4           50                 21               35               4   \n",
       "\n",
       "   Duration_Min  \n",
       "0            50  \n",
       "1            25  \n",
       "2             0  \n",
       "3            25  \n",
       "4            45  "
      ]
     },
     "execution_count": 38,
     "metadata": {},
     "output_type": "execute_result"
    }
   ],
   "source": [
    "flight_train_data.head()"
   ]
  },
  {
   "cell_type": "code",
   "execution_count": 39,
   "metadata": {},
   "outputs": [
    {
     "data": {
      "text/html": [
       "<div>\n",
       "<style scoped>\n",
       "    .dataframe tbody tr th:only-of-type {\n",
       "        vertical-align: middle;\n",
       "    }\n",
       "\n",
       "    .dataframe tbody tr th {\n",
       "        vertical-align: top;\n",
       "    }\n",
       "\n",
       "    .dataframe thead th {\n",
       "        text-align: right;\n",
       "    }\n",
       "</style>\n",
       "<table border=\"1\" class=\"dataframe\">\n",
       "  <thead>\n",
       "    <tr style=\"text-align: right;\">\n",
       "      <th></th>\n",
       "      <th>Airline</th>\n",
       "      <th>Source</th>\n",
       "      <th>Destination</th>\n",
       "      <th>Total_Stops</th>\n",
       "      <th>Dep_Time_hours</th>\n",
       "      <th>Dep_Time_Min</th>\n",
       "      <th>Arrival_Time_hours</th>\n",
       "      <th>Arrival_Time_min</th>\n",
       "      <th>Duration_hours</th>\n",
       "      <th>Duration_Min</th>\n",
       "    </tr>\n",
       "  </thead>\n",
       "  <tbody>\n",
       "    <tr>\n",
       "      <th>0</th>\n",
       "      <td>4</td>\n",
       "      <td>2</td>\n",
       "      <td>1</td>\n",
       "      <td>1</td>\n",
       "      <td>17</td>\n",
       "      <td>30</td>\n",
       "      <td>04</td>\n",
       "      <td>25</td>\n",
       "      <td>10</td>\n",
       "      <td>55</td>\n",
       "    </tr>\n",
       "    <tr>\n",
       "      <th>1</th>\n",
       "      <td>3</td>\n",
       "      <td>3</td>\n",
       "      <td>0</td>\n",
       "      <td>1</td>\n",
       "      <td>06</td>\n",
       "      <td>20</td>\n",
       "      <td>10</td>\n",
       "      <td>20</td>\n",
       "      <td>4</td>\n",
       "      <td>0</td>\n",
       "    </tr>\n",
       "    <tr>\n",
       "      <th>2</th>\n",
       "      <td>4</td>\n",
       "      <td>2</td>\n",
       "      <td>1</td>\n",
       "      <td>1</td>\n",
       "      <td>19</td>\n",
       "      <td>15</td>\n",
       "      <td>19</td>\n",
       "      <td>00</td>\n",
       "      <td>23</td>\n",
       "      <td>45</td>\n",
       "    </tr>\n",
       "    <tr>\n",
       "      <th>3</th>\n",
       "      <td>6</td>\n",
       "      <td>2</td>\n",
       "      <td>1</td>\n",
       "      <td>1</td>\n",
       "      <td>08</td>\n",
       "      <td>00</td>\n",
       "      <td>21</td>\n",
       "      <td>00</td>\n",
       "      <td>13</td>\n",
       "      <td>0</td>\n",
       "    </tr>\n",
       "    <tr>\n",
       "      <th>4</th>\n",
       "      <td>0</td>\n",
       "      <td>0</td>\n",
       "      <td>2</td>\n",
       "      <td>0</td>\n",
       "      <td>23</td>\n",
       "      <td>55</td>\n",
       "      <td>02</td>\n",
       "      <td>45</td>\n",
       "      <td>2</td>\n",
       "      <td>50</td>\n",
       "    </tr>\n",
       "  </tbody>\n",
       "</table>\n",
       "</div>"
      ],
      "text/plain": [
       "   Airline  Source  Destination Total_Stops Dep_Time_hours Dep_Time_Min  \\\n",
       "0        4       2            1           1             17           30   \n",
       "1        3       3            0           1             06           20   \n",
       "2        4       2            1           1             19           15   \n",
       "3        6       2            1           1             08           00   \n",
       "4        0       0            2           0             23           55   \n",
       "\n",
       "  Arrival_Time_hours Arrival_Time_min  Duration_hours  Duration_Min  \n",
       "0                 04               25              10            55  \n",
       "1                 10               20               4             0  \n",
       "2                 19               00              23            45  \n",
       "3                 21               00              13             0  \n",
       "4                 02               45               2            50  "
      ]
     },
     "execution_count": 39,
     "metadata": {},
     "output_type": "execute_result"
    }
   ],
   "source": [
    "flight_test_data.head()"
   ]
  },
  {
   "cell_type": "markdown",
   "metadata": {},
   "source": [
    "Data is clean now and ready for Modeling, date, month and year are not required for the modeling"
   ]
  },
  {
   "cell_type": "code",
   "execution_count": 40,
   "metadata": {},
   "outputs": [
    {
     "data": {
      "text/plain": [
       "Airline           5.532328e+00\n",
       "Source            1.385980e+00\n",
       "Destination       2.175167e+00\n",
       "Price             2.126638e+07\n",
       "Duration_hours    7.216359e+01\n",
       "Duration_Min      2.871607e+02\n",
       "dtype: float64"
      ]
     },
     "execution_count": 40,
     "metadata": {},
     "output_type": "execute_result"
    }
   ],
   "source": [
    "flight_train_data.var()"
   ]
  },
  {
   "cell_type": "code",
   "execution_count": 41,
   "metadata": {},
   "outputs": [
    {
     "data": {
      "text/plain": [
       "Airline             5.270039\n",
       "Source              1.402632\n",
       "Destination         2.154939\n",
       "Duration_hours     70.403566\n",
       "Duration_Min      280.483799\n",
       "dtype: float64"
      ]
     },
     "execution_count": 41,
     "metadata": {},
     "output_type": "execute_result"
    }
   ],
   "source": [
    "flight_test_data.var()"
   ]
  },
  {
   "cell_type": "code",
   "execution_count": 42,
   "metadata": {
    "scrolled": true
   },
   "outputs": [
    {
     "data": {
      "text/plain": [
       "Airline                int32\n",
       "Source                 int32\n",
       "Destination            int32\n",
       "Total_Stops           object\n",
       "Price                  int64\n",
       "Dep_Time_hours        object\n",
       "Dep_Time_Min          object\n",
       "Arrival_Time_hours    object\n",
       "Arrival_Time_min      object\n",
       "Duration_hours         int64\n",
       "Duration_Min           int64\n",
       "dtype: object"
      ]
     },
     "execution_count": 42,
     "metadata": {},
     "output_type": "execute_result"
    }
   ],
   "source": [
    "flight_train_data.dtypes"
   ]
  },
  {
   "cell_type": "code",
   "execution_count": 43,
   "metadata": {},
   "outputs": [],
   "source": [
    "# Changing the data type\n",
    "# training data\n",
    "flight_train_data[\"Total_Stops\"] = flight_train_data[\"Total_Stops\"].astype(int) \n",
    "flight_train_data[\"Dep_Time_hours\"] = flight_train_data[\"Dep_Time_hours\"].astype(int) \n",
    "flight_train_data[\"Dep_Time_Min\"] = flight_train_data[\"Dep_Time_Min\"].astype(int) \n",
    "flight_train_data[\"Arrival_Time_hours\"] = flight_train_data[\"Arrival_Time_hours\"].astype(int) \n",
    "flight_train_data[\"Arrival_Time_min\"] = flight_train_data[\"Arrival_Time_min\"].astype(int) \n",
    "\n",
    "# Test Data\n",
    "flight_test_data[\"Total_Stops\"] = flight_test_data[\"Total_Stops\"].astype(int) \n",
    "flight_test_data[\"Dep_Time_hours\"] = flight_test_data[\"Dep_Time_hours\"].astype(int) \n",
    "flight_test_data[\"Dep_Time_Min\"] = flight_test_data[\"Dep_Time_Min\"].astype(int) \n",
    "flight_test_data[\"Arrival_Time_hours\"] = flight_test_data[\"Arrival_Time_hours\"].astype(int) \n",
    "flight_test_data[\"Arrival_Time_min\"] = flight_test_data[\"Arrival_Time_min\"].astype(int) \n"
   ]
  },
  {
   "cell_type": "code",
   "execution_count": 44,
   "metadata": {},
   "outputs": [
    {
     "data": {
      "text/plain": [
       "Airline               int32\n",
       "Source                int32\n",
       "Destination           int32\n",
       "Total_Stops           int32\n",
       "Price                 int64\n",
       "Dep_Time_hours        int32\n",
       "Dep_Time_Min          int32\n",
       "Arrival_Time_hours    int32\n",
       "Arrival_Time_min      int32\n",
       "Duration_hours        int64\n",
       "Duration_Min          int64\n",
       "dtype: object"
      ]
     },
     "execution_count": 44,
     "metadata": {},
     "output_type": "execute_result"
    }
   ],
   "source": [
    "flight_train_data.dtypes"
   ]
  },
  {
   "cell_type": "code",
   "execution_count": 45,
   "metadata": {
    "scrolled": false
   },
   "outputs": [
    {
     "data": {
      "text/plain": [
       "Airline               int32\n",
       "Source                int32\n",
       "Destination           int32\n",
       "Total_Stops           int32\n",
       "Dep_Time_hours        int32\n",
       "Dep_Time_Min          int32\n",
       "Arrival_Time_hours    int32\n",
       "Arrival_Time_min      int32\n",
       "Duration_hours        int64\n",
       "Duration_Min          int64\n",
       "dtype: object"
      ]
     },
     "execution_count": 45,
     "metadata": {},
     "output_type": "execute_result"
    }
   ],
   "source": [
    "flight_test_data.dtypes"
   ]
  },
  {
   "cell_type": "code",
   "execution_count": 46,
   "metadata": {},
   "outputs": [
    {
     "data": {
      "text/plain": [
       "<AxesSubplot:xlabel='Price', ylabel='Duration_hours'>"
      ]
     },
     "execution_count": 46,
     "metadata": {},
     "output_type": "execute_result"
    },
    {
     "data": {
      "image/png": "[encoded data removed]",
      "text/plain": [
       "<Figure size 576x360 with 1 Axes>"
      ]
     },
     "metadata": {
      "needs_background": "light"
     },
     "output_type": "display_data"
    }
   ],
   "source": [
    "plt.figure(figsize=(8,5))\n",
    "sns.scatterplot(x =\"Price\", y = \"Duration_hours\" , data = flight_train_data)"
   ]
  },
  {
   "cell_type": "markdown",
   "metadata": {},
   "source": [
    "maximum points are below 20000 and  duration is speard across."
   ]
  },
  {
   "cell_type": "code",
   "execution_count": 47,
   "metadata": {
    "scrolled": false
   },
   "outputs": [
    {
     "data": {
      "text/plain": [
       "<AxesSubplot:>"
      ]
     },
     "execution_count": 47,
     "metadata": {},
     "output_type": "execute_result"
    },
    {
     "data": {
      "image/png": "[encoded data removed]",
      "text/plain": [
       "<Figure size 720x432 with 2 Axes>"
      ]
     },
     "metadata": {
      "needs_background": "light"
     },
     "output_type": "display_data"
    }
   ],
   "source": [
    "plt.figure(figsize =(10,6))\n",
    "sns.heatmap(flight_train_data.corr(),annot= True, cmap = \"afmhot_r\")"
   ]
  },
  {
   "cell_type": "markdown",
   "metadata": {},
   "source": [
    "Total_stops and Duration_hours have postive correlation with Target colums. Total_stops and Duration hours are also correlation but we will keep the same in the dataset because there are only two which reflect maximum variance "
   ]
  },
  {
   "cell_type": "markdown",
   "metadata": {},
   "source": [
    "# Feature selection"
   ]
  },
  {
   "cell_type": "code",
   "execution_count": 48,
   "metadata": {},
   "outputs": [],
   "source": [
    "# Seprating X & Y\n",
    "X = flight_train_data.drop(\"Price\",axis =1)\n",
    "y = flight_train_data[\"Price\"]"
   ]
  },
  {
   "cell_type": "code",
   "execution_count": 49,
   "metadata": {},
   "outputs": [],
   "source": [
    "from sklearn.feature_selection import f_regression, SelectKBest"
   ]
  },
  {
   "cell_type": "code",
   "execution_count": 50,
   "metadata": {},
   "outputs": [
    {
     "data": {
      "text/plain": [
       "SelectKBest(k=5, score_func=<function f_regression at 0x000000D0CCF85700>)"
      ]
     },
     "execution_count": 50,
     "metadata": {},
     "output_type": "execute_result"
    }
   ],
   "source": [
    "select_best = SelectKBest(score_func = f_regression, k = 5)\n",
    "select_best.fit(X,y)"
   ]
  },
  {
   "cell_type": "code",
   "execution_count": 51,
   "metadata": {
    "scrolled": true
   },
   "outputs": [
    {
     "name": "stdout",
     "output_type": "stream",
     "text": [
      "         Feature_name  Feature_score  Pvalue\n",
      "3         Total_Stops    6130.729912  0.0000\n",
      "8      Duration_hours    3730.131941  0.0000\n",
      "9        Duration_Min     169.124159  0.0000\n",
      "7    Arrival_Time_min      79.867692  0.0000\n",
      "2         Destination      54.298423  0.0000\n",
      "0             Airline      16.744381  0.0000\n",
      "5        Dep_Time_Min       6.392435  0.0115\n",
      "6  Arrival_Time_hours       6.280954  0.0122\n",
      "1              Source       2.734523  0.0982\n",
      "4      Dep_Time_hours       0.493755  0.4823\n"
     ]
    }
   ],
   "source": [
    "feature_score = pd.DataFrame(select_best.scores_)\n",
    "feature_Pvalue = pd.DataFrame(np.round(select_best.pvalues_,4))\n",
    "feature_name = pd.DataFrame(flight_train_data.drop(\"Price\",axis = 1).columns)\n",
    "\n",
    "important_feature = pd.concat([feature_name,feature_score,feature_Pvalue], axis =1)\n",
    "important_feature.columns = [\"Feature_name\",\"Feature_score\",\"Pvalue\"]\n",
    "print(important_feature.nlargest(12,columns =\"Feature_score\"))"
   ]
  },
  {
   "cell_type": "code",
   "execution_count": 52,
   "metadata": {},
   "outputs": [],
   "source": [
    "select_X = flight_train_data[[\"Total_Stops\",\"Duration_hours\",\"Duration_Min\",\"Arrival_Time_min\",\"Destination\"]]"
   ]
  },
  {
   "cell_type": "code",
   "execution_count": 53,
   "metadata": {},
   "outputs": [],
   "source": [
    "select_y = flight_train_data[\"Price\"] "
   ]
  },
  {
   "cell_type": "code",
   "execution_count": 54,
   "metadata": {
    "scrolled": true
   },
   "outputs": [
    {
     "name": "stdout",
     "output_type": "stream",
     "text": [
      "r2_score 0.5545835659505919\n",
      "mean_squred_error 9652280.074953787\n",
      "RMSE 3106.8118827752974 \n",
      "\n"
     ]
    }
   ],
   "source": [
    "X_train,X_test,y_train,y_test = train_test_split(select_X,select_y, test_size = 0.25, random_state =100)\n",
    "RF = RandomForestRegressor()\n",
    "RF.fit(X_train,y_train)\n",
    "pred = RF.predict(X_test)\n",
    "print(\"r2_score\", r2_score(y_test, pred))\n",
    "print(\"mean_squred_error\", mean_squared_error(y_test, pred))\n",
    "print(\"RMSE\", np.sqrt(mean_squared_error(y_test, pred)),\"\\n\")"
   ]
  },
  {
   "cell_type": "markdown",
   "metadata": {},
   "source": [
    "Tried Selecting best feature for training the model but we have seen that it is as ok as taking all the parameters for training a model. we will trained model with all Dataset in that case"
   ]
  },
  {
   "cell_type": "markdown",
   "metadata": {},
   "source": [
    "# Model"
   ]
  },
  {
   "cell_type": "code",
   "execution_count": 55,
   "metadata": {},
   "outputs": [],
   "source": [
    "# Performing Standard scaler\n",
    "sc = StandardScaler()\n",
    "X = sc.fit_transform(X)\n",
    "flight_test = sc.fit_transform(flight_test_data)"
   ]
  },
  {
   "cell_type": "code",
   "execution_count": 56,
   "metadata": {
    "scrolled": false
   },
   "outputs": [
    {
     "name": "stdout",
     "output_type": "stream",
     "text": [
      "r2_score 0.3793749774086722 Random_state 40\n",
      "mean_squred_error 14156082.034028748\n",
      "RMSE 3762.4569145744044 \n",
      "\n",
      "r2_score 0.39459146232103226 Random_state 100\n",
      "mean_squred_error 13119347.017172264\n",
      "RMSE 3622.0639167706945 \n",
      "\n",
      "r2_score 0.36470537335325237 Random_state 160\n",
      "mean_squred_error 14117778.438372064\n",
      "RMSE 3757.3632294964596 \n",
      "\n",
      "r2_score 0.3742753981697722 Random_state 220\n",
      "mean_squred_error 15239453.803027794\n",
      "RMSE 3903.774302265411 \n",
      "\n",
      "r2_score 0.4102215751933107 Random_state 280\n",
      "mean_squred_error 12139102.137359457\n",
      "RMSE 3484.121429766686 \n",
      "\n"
     ]
    }
   ],
   "source": [
    "for i in range(40,300,60):\n",
    "    X_train,X_test,y_train,y_test = train_test_split(X,y, test_size = 0.25, random_state =i)\n",
    "    LR = LinearRegression()\n",
    "    LR.fit(X_train,y_train)\n",
    "    pred = LR.predict(X_test)\n",
    "    print(\"r2_score\", r2_score(y_test, pred),\"Random_state\",i)\n",
    "    print(\"mean_squred_error\", mean_squared_error(y_test, pred))\n",
    "    print(\"RMSE\", np.sqrt(mean_squared_error(y_test, pred)),\"\\n\")"
   ]
  },
  {
   "cell_type": "code",
   "execution_count": 57,
   "metadata": {},
   "outputs": [
    {
     "name": "stdout",
     "output_type": "stream",
     "text": [
      "r2_score 0.624185421545947 RandomForestRegressor()\n",
      "mean_squred_error 7735195.72890062\n",
      "RMSE 2781.2219848298014 \n",
      "\n",
      "r2_score 0.5530900242909127 DecisionTreeRegressor()\n",
      "mean_squred_error 9198515.26124513\n",
      "RMSE 3032.905415809258 \n",
      "\n",
      "r2_score 0.5580591799285938 KNeighborsRegressor()\n",
      "mean_squred_error 9096237.718891801\n",
      "RMSE 3015.9969693107787 \n",
      "\n",
      "r2_score 0.6408085771701129 GradientBoostingRegressor()\n",
      "mean_squred_error 7393049.974699603\n",
      "RMSE 2719.016361609397 \n",
      "\n",
      "r2_score 0.4549225549130962 AdaBoostRegressor()\n",
      "mean_squred_error 11219045.15386372\n",
      "RMSE 3349.4843116312277 \n",
      "\n"
     ]
    }
   ],
   "source": [
    "model = [RandomForestRegressor(n_estimators=100),DecisionTreeRegressor(),KNeighborsRegressor(),GradientBoostingRegressor(n_estimators=100),AdaBoostRegressor()]\n",
    "\n",
    "for i in model:\n",
    "    X_train1,X_test1,y_train1,y_test1 = train_test_split(X,y, test_size = 0.25, random_state =280)\n",
    "    i.fit(X_train1,y_train1)\n",
    "    pred = i.predict(X_test1)\n",
    "    print(\"r2_score\", r2_score(y_test1, pred),i)\n",
    "    print(\"mean_squred_error\", mean_squared_error(y_test1, pred))\n",
    "    print(\"RMSE\", np.sqrt(mean_squared_error(y_test1, pred)),\"\\n\")"
   ]
  },
  {
   "cell_type": "markdown",
   "metadata": {},
   "source": [
    "Have checked Multiple Model and their score also. I have found GradiantBoosting working well on the dataset and have given less RMSE score other than that. So i am selecting it for final Model "
   ]
  },
  {
   "cell_type": "markdown",
   "metadata": {},
   "source": [
    "# Hyper Parameter Tuning"
   ]
  },
  {
   "cell_type": "code",
   "execution_count": 58,
   "metadata": {
    "scrolled": true
   },
   "outputs": [
    {
     "name": "stdout",
     "output_type": "stream",
     "text": [
      "Fitting 5 folds for each of 10 candidates, totalling 50 fits\n"
     ]
    },
    {
     "name": "stderr",
     "output_type": "stream",
     "text": [
      "[Parallel(n_jobs=-1)]: Using backend LokyBackend with 4 concurrent workers.\n",
      "[Parallel(n_jobs=-1)]: Done  33 tasks      | elapsed:   34.0s\n",
      "[Parallel(n_jobs=-1)]: Done  50 out of  50 | elapsed:  1.1min finished\n"
     ]
    },
    {
     "name": "stdout",
     "output_type": "stream",
     "text": [
      "{'n_estimators': 400, 'max_depth': 3, 'learning_rate': 0.1}\n"
     ]
    }
   ],
   "source": [
    "Gradient_Boost = GradientBoostingRegressor()\n",
    "Para = {\"n_estimators\":[100,200,300,400],\n",
    "        \"learning_rate\":[0.1,0.3,0.5],\n",
    "        \"max_depth\" :[3,5,7,9,10]}\n",
    "\n",
    "Rand_search = RandomizedSearchCV(Gradient_Boost,Para,cv = 5,scoring = \"r2\",n_jobs =-1,verbose = 2) \n",
    "Rand_search.fit(X_train1,y_train1)\n",
    "print(Rand_search.best_params_)"
   ]
  },
  {
   "cell_type": "markdown",
   "metadata": {},
   "source": [
    "# Cross_val_Score"
   ]
  },
  {
   "cell_type": "code",
   "execution_count": 59,
   "metadata": {
    "scrolled": true
   },
   "outputs": [
    {
     "name": "stdout",
     "output_type": "stream",
     "text": [
      "2 mean 0.650340061645585 and STD 0.001746513548794848\n",
      "3 mean 0.6526704085182423 and STD 0.005155227733036675\n",
      "4 mean 0.6593959917464333 and STD 0.02114083446003956\n",
      "5 mean 0.6598678614240574 and STD 0.018190843221143786\n",
      "6 mean 0.6588129368061421 and STD 0.015020754915024468\n",
      "7 mean 0.6595071614085837 and STD 0.019488992347860206\n",
      "8 mean 0.6590568899486431 and STD 0.02856973555551076\n",
      "9 mean 0.6581833868608338 and STD 0.02342413882457301\n",
      "10 mean 0.6592564296830254 and STD 0.024362924645043957\n"
     ]
    }
   ],
   "source": [
    "best_Gradient_Boost = GradientBoostingRegressor(n_estimators= 200, max_depth = 3, learning_rate = 0.1)\n",
    "\n",
    "for i in range(2,11):\n",
    "    cross_score = cross_val_score(best_Gradient_Boost,X,y,cv = i,n_jobs = -1) \n",
    "    print(i,\"mean\",cross_score.mean() ,\"and STD\" , cross_score.std())\n"
   ]
  },
  {
   "cell_type": "markdown",
   "metadata": {},
   "source": [
    "# Saving Model"
   ]
  },
  {
   "cell_type": "code",
   "execution_count": 60,
   "metadata": {},
   "outputs": [
    {
     "data": {
      "text/html": [
       "<div>\n",
       "<style scoped>\n",
       "    .dataframe tbody tr th:only-of-type {\n",
       "        vertical-align: middle;\n",
       "    }\n",
       "\n",
       "    .dataframe tbody tr th {\n",
       "        vertical-align: top;\n",
       "    }\n",
       "\n",
       "    .dataframe thead th {\n",
       "        text-align: right;\n",
       "    }\n",
       "</style>\n",
       "<table border=\"1\" class=\"dataframe\">\n",
       "  <thead>\n",
       "    <tr style=\"text-align: right;\">\n",
       "      <th></th>\n",
       "      <th>Airline</th>\n",
       "      <th>Date_of_Journey</th>\n",
       "      <th>Source</th>\n",
       "      <th>Destination</th>\n",
       "      <th>Route</th>\n",
       "      <th>Dep_Time</th>\n",
       "      <th>Arrival_Time</th>\n",
       "      <th>Duration</th>\n",
       "      <th>Total_Stops</th>\n",
       "      <th>Additional_Info</th>\n",
       "      <th>Prediction</th>\n",
       "    </tr>\n",
       "  </thead>\n",
       "  <tbody>\n",
       "    <tr>\n",
       "      <th>0</th>\n",
       "      <td>Jet Airways</td>\n",
       "      <td>6/06/2019</td>\n",
       "      <td>Delhi</td>\n",
       "      <td>Cochin</td>\n",
       "      <td>DEL → BOM → COK</td>\n",
       "      <td>17:30</td>\n",
       "      <td>04:25 07 Jun</td>\n",
       "      <td>10h 55m</td>\n",
       "      <td>1 stop</td>\n",
       "      <td>No info</td>\n",
       "      <td>11950.429504</td>\n",
       "    </tr>\n",
       "    <tr>\n",
       "      <th>1</th>\n",
       "      <td>IndiGo</td>\n",
       "      <td>12/05/2019</td>\n",
       "      <td>Kolkata</td>\n",
       "      <td>Banglore</td>\n",
       "      <td>CCU → MAA → BLR</td>\n",
       "      <td>06:20</td>\n",
       "      <td>10:20</td>\n",
       "      <td>4h</td>\n",
       "      <td>1 stop</td>\n",
       "      <td>No info</td>\n",
       "      <td>5027.122197</td>\n",
       "    </tr>\n",
       "    <tr>\n",
       "      <th>2</th>\n",
       "      <td>Jet Airways</td>\n",
       "      <td>21/05/2019</td>\n",
       "      <td>Delhi</td>\n",
       "      <td>Cochin</td>\n",
       "      <td>DEL → BOM → COK</td>\n",
       "      <td>19:15</td>\n",
       "      <td>19:00 22 May</td>\n",
       "      <td>23h 45m</td>\n",
       "      <td>1 stop</td>\n",
       "      <td>In-flight meal not included</td>\n",
       "      <td>12032.934320</td>\n",
       "    </tr>\n",
       "    <tr>\n",
       "      <th>3</th>\n",
       "      <td>Multiple carriers</td>\n",
       "      <td>21/05/2019</td>\n",
       "      <td>Delhi</td>\n",
       "      <td>Cochin</td>\n",
       "      <td>DEL → BOM → COK</td>\n",
       "      <td>08:00</td>\n",
       "      <td>21:00</td>\n",
       "      <td>13h</td>\n",
       "      <td>1 stop</td>\n",
       "      <td>No info</td>\n",
       "      <td>10810.994127</td>\n",
       "    </tr>\n",
       "    <tr>\n",
       "      <th>4</th>\n",
       "      <td>Air Asia</td>\n",
       "      <td>24/06/2019</td>\n",
       "      <td>Banglore</td>\n",
       "      <td>Delhi</td>\n",
       "      <td>BLR → DEL</td>\n",
       "      <td>23:55</td>\n",
       "      <td>02:45 25 Jun</td>\n",
       "      <td>2h 50m</td>\n",
       "      <td>non-stop</td>\n",
       "      <td>No info</td>\n",
       "      <td>4365.687089</td>\n",
       "    </tr>\n",
       "  </tbody>\n",
       "</table>\n",
       "</div>"
      ],
      "text/plain": [
       "             Airline Date_of_Journey    Source Destination            Route  \\\n",
       "0        Jet Airways       6/06/2019     Delhi      Cochin  DEL → BOM → COK   \n",
       "1             IndiGo      12/05/2019   Kolkata    Banglore  CCU → MAA → BLR   \n",
       "2        Jet Airways      21/05/2019     Delhi      Cochin  DEL → BOM → COK   \n",
       "3  Multiple carriers      21/05/2019     Delhi      Cochin  DEL → BOM → COK   \n",
       "4           Air Asia      24/06/2019  Banglore       Delhi        BLR → DEL   \n",
       "\n",
       "  Dep_Time  Arrival_Time Duration Total_Stops              Additional_Info  \\\n",
       "0    17:30  04:25 07 Jun  10h 55m      1 stop                      No info   \n",
       "1    06:20         10:20       4h      1 stop                      No info   \n",
       "2    19:15  19:00 22 May  23h 45m      1 stop  In-flight meal not included   \n",
       "3    08:00         21:00      13h      1 stop                      No info   \n",
       "4    23:55  02:45 25 Jun   2h 50m    non-stop                      No info   \n",
       "\n",
       "     Prediction  \n",
       "0  11950.429504  \n",
       "1   5027.122197  \n",
       "2  12032.934320  \n",
       "3  10810.994127  \n",
       "4   4365.687089  "
      ]
     },
     "execution_count": 60,
     "metadata": {},
     "output_type": "execute_result"
    }
   ],
   "source": [
    "import pickle\n",
    "best_Gradient_Boost.fit(X,y)\n",
    "pred = best_Gradient_Boost.predict(flight_test)\n",
    "\n",
    "# Saving model\n",
    "\n",
    "filename = \"Flight_price_prediction.pkl\"\n",
    "\n",
    "with open(filename,\"wb\") as f:\n",
    "    pickle.dump(best_Gradient_Boost,f)\n",
    "    \n",
    "\n",
    "   \n",
    "# final_submission\n",
    "pred = pd.Series(pred)\n",
    "\n",
    "Test_data[\"Prediction\"] = pred\n",
    "Test_data.head()"
   ]
  }
 ],
 "metadata": {
  "kernelspec": {
   "display_name": "Python 3",
   "language": "python",
   "name": "python3"
  },
  "language_info": {
   "codemirror_mode": {
    "name": "ipython",
    "version": 3
   },
   "file_extension": ".py",
   "mimetype": "text/x-python",
   "name": "python",
   "nbconvert_exporter": "python",
   "pygments_lexer": "ipython3",
   "version": "3.8.5"
  }
 },
 "nbformat": 4,
 "nbformat_minor": 2
}
